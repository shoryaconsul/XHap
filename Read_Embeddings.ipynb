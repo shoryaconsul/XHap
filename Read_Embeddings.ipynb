{
 "cells": [
  {
   "cell_type": "code",
   "execution_count": 1,
   "metadata": {},
   "outputs": [],
   "source": [
    "import numpy as np\n",
    "import torch\n",
    "from torch import nn\n",
    "from torch import optim\n",
    "from torch.utils.data import Dataset, DataLoader\n",
    "from torch.nn import functional as F\n",
    "from matplotlib import pyplot as plt"
   ]
  },
  {
   "cell_type": "code",
   "execution_count": 2,
   "metadata": {},
   "outputs": [],
   "source": [
    "class ReadAE(nn.Module):\n",
    "    def __init__(self, nSNP: int):\n",
    "        super().__init__()\n",
    "        latent_dim = int(np.ceil(nSNP/4))  # Size of embedding\n",
    "        self.encoder = nn.Sequential(\n",
    "            nn.Conv2d(1, 32, (4,5), (4,1), (1, 2)),\n",
    "            nn.PReLU(),\n",
    "            nn.Conv2d(32, 64, (1,5), (1,1), 'same'),\n",
    "            nn.PReLU(),\n",
    "            nn.Conv2d(64, 128, (1,3), (1,1), 'same'),\n",
    "            nn.PReLU(),\n",
    "            nn.Flatten(),\n",
    "            )\n",
    "        \n",
    "        self.fc1 = nn.Linear(128*nSNP, latent_dim)\n",
    "        self.fc2 = nn.Linear(latent_dim, 128*nSNP)\n",
    "        self.act1 = nn.PReLU()\n",
    "\n",
    "        self.decoder = nn.Sequential(\n",
    "            nn.ConvTranspose2d(128, 64, (1,3), (1,1), (0, 1)),\n",
    "            nn.PReLU(),\n",
    "            nn.ConvTranspose2d(64, 32, (1,5), (1,1), (0, 2)),\n",
    "            nn.PReLU(),\n",
    "            nn.ConvTranspose2d(32, 1, (4,5), (4,1), (0,2)),\n",
    "            # nn.PReLU()\n",
    "            )\n",
    "\n",
    "    def forward(self, x):\n",
    "        x_code = self.encoder(x)\n",
    "        x_fc1 = self.fc1(x_code)\n",
    "        x_flatten = self.act1(self.fc2(x_fc1))\n",
    "        x_reshape = x_flatten.view(-1, 128, 1, nSNP)\n",
    "        return x_fc1, self.decoder(x_reshape)\n"
   ]
  },
  {
   "cell_type": "code",
   "execution_count": 3,
   "metadata": {},
   "outputs": [
    {
     "data": {
      "text/plain": [
       "torch.Size([23, 148])"
      ]
     },
     "execution_count": 3,
     "metadata": {},
     "output_type": "execute_result"
    }
   ],
   "source": [
    "nSNP = 589\n",
    "x = torch.randn(5, 1, 4, nSNP)\n",
    "conv1 = nn.Conv2d(1, 32, (4,5), (4,1), (1, 2))\n",
    "conv1(x).shape\n",
    "\n",
    "x = torch.randn(23, 75392)\n",
    "fc = nn.Linear(128*nSNP, int(np.ceil(nSNP/4)))\n",
    "fc(x).shape"
   ]
  },
  {
   "cell_type": "code",
   "execution_count": 4,
   "metadata": {},
   "outputs": [],
   "source": [
    "class SNVMatrixDataset(Dataset):\n",
    "    def __init__(self, SNV_file, transform=None):\n",
    "        \"\"\"\n",
    "        SNV_file: txt file containing SNV matrix\n",
    "        \"\"\"\n",
    "        \n",
    "        self.SNV_matrix = np.loadtxt(SNV_file, dtype=int)\n",
    "    \n",
    "    def __len__(self):\n",
    "        return np.shape(self.SNV_matrix)[0]\n",
    "    \n",
    "    def __getitem__(self, idx):\n",
    "        SNV_row = torch.from_numpy(self.SNV_matrix[idx])\n",
    "        SNV_row_onehot = F.one_hot(SNV_row)[:,1:]\n",
    "        SNV_row_onehot = SNV_row_onehot.type(torch.float32)\n",
    "        SNV_row_onehot = SNV_row_onehot.transpose(1,0)\n",
    "        return SNV_row_onehot[None,:]"
   ]
  },
  {
   "cell_type": "code",
   "execution_count": 29,
   "metadata": {},
   "outputs": [],
   "source": [
    "SNVdata = SNVMatrixDataset('Simulated_data/K3/cov15/sample4/simu_erro1_K3_cov15'\\\n",
    "                           '_l5000_iter_7_SNV_matrix.txt')\n",
    "nSNP = SNVdata[0].shape[2] # Number of SNVs\n",
    "num_epoch = 100\n",
    "num_read = len(SNVdata)  # Number of reads\n",
    "batch_size = int(np.ceil(num_read/20))"
   ]
  },
  {
   "cell_type": "code",
   "execution_count": 30,
   "metadata": {},
   "outputs": [
    {
     "name": "stdout",
     "output_type": "stream",
     "text": [
      "epoch : 1/100, loss = 3955.41\n",
      "epoch : 2/100, loss = 218.17\n",
      "epoch : 3/100, loss = 6.73\n",
      "epoch : 4/100, loss = 0.79\n",
      "epoch : 5/100, loss = 0.45\n",
      "epoch : 6/100, loss = 0.33\n",
      "epoch : 7/100, loss = 0.28\n",
      "epoch : 8/100, loss = 0.25\n",
      "epoch : 9/100, loss = 0.22\n",
      "epoch : 10/100, loss = 0.20\n",
      "epoch : 11/100, loss = 0.18\n",
      "epoch : 12/100, loss = 0.16\n",
      "epoch : 13/100, loss = 0.15\n",
      "epoch : 14/100, loss = 0.14\n",
      "epoch : 15/100, loss = 0.13\n",
      "epoch : 16/100, loss = 0.12\n",
      "epoch : 17/100, loss = 0.11\n",
      "epoch : 18/100, loss = 0.11\n",
      "epoch : 19/100, loss = 0.10\n",
      "epoch : 20/100, loss = 0.09\n",
      "epoch : 21/100, loss = 0.09\n",
      "epoch : 22/100, loss = 0.08\n",
      "epoch : 23/100, loss = 0.08\n",
      "epoch : 24/100, loss = 0.08\n",
      "epoch : 25/100, loss = 0.07\n",
      "epoch : 26/100, loss = 0.07\n",
      "epoch : 27/100, loss = 0.07\n",
      "epoch : 28/100, loss = 0.07\n",
      "epoch : 29/100, loss = 0.06\n",
      "epoch : 30/100, loss = 0.06\n",
      "epoch : 31/100, loss = 0.06\n",
      "epoch : 32/100, loss = 0.06\n",
      "epoch : 33/100, loss = 0.06\n",
      "epoch : 34/100, loss = 0.05\n",
      "epoch : 35/100, loss = 0.05\n",
      "epoch : 36/100, loss = 0.05\n",
      "epoch : 37/100, loss = 0.05\n",
      "epoch : 38/100, loss = 0.05\n",
      "epoch : 39/100, loss = 0.05\n",
      "epoch : 40/100, loss = 0.05\n",
      "epoch : 41/100, loss = 0.05\n",
      "epoch : 42/100, loss = 0.04\n",
      "epoch : 43/100, loss = 0.04\n",
      "epoch : 44/100, loss = 0.04\n",
      "epoch : 45/100, loss = 0.04\n",
      "epoch : 46/100, loss = 0.04\n",
      "epoch : 47/100, loss = 0.04\n",
      "epoch : 48/100, loss = 0.04\n",
      "epoch : 49/100, loss = 0.04\n",
      "epoch : 50/100, loss = 0.04\n",
      "epoch : 51/100, loss = 0.04\n",
      "epoch : 52/100, loss = 0.04\n",
      "epoch : 53/100, loss = 0.04\n",
      "epoch : 54/100, loss = 0.04\n",
      "epoch : 55/100, loss = 0.04\n",
      "epoch : 56/100, loss = 0.04\n",
      "epoch : 57/100, loss = 0.04\n",
      "epoch : 58/100, loss = 0.04\n",
      "epoch : 59/100, loss = 0.03\n",
      "epoch : 60/100, loss = 0.03\n",
      "epoch : 61/100, loss = 0.03\n",
      "epoch : 62/100, loss = 0.03\n",
      "epoch : 63/100, loss = 0.03\n",
      "epoch : 64/100, loss = 0.03\n",
      "epoch : 65/100, loss = 0.03\n",
      "epoch : 66/100, loss = 0.03\n",
      "epoch : 67/100, loss = 0.03\n",
      "epoch : 68/100, loss = 0.03\n",
      "epoch : 69/100, loss = 0.03\n",
      "epoch : 70/100, loss = 0.03\n",
      "epoch : 71/100, loss = 0.03\n",
      "epoch : 72/100, loss = 0.03\n",
      "epoch : 73/100, loss = 0.03\n",
      "epoch : 74/100, loss = 0.03\n",
      "epoch : 75/100, loss = 0.03\n",
      "epoch : 76/100, loss = 0.03\n",
      "epoch : 77/100, loss = 0.03\n",
      "epoch : 78/100, loss = 0.03\n",
      "epoch : 79/100, loss = 0.03\n",
      "epoch : 80/100, loss = 0.03\n",
      "epoch : 81/100, loss = 0.03\n",
      "epoch : 82/100, loss = 0.03\n",
      "epoch : 83/100, loss = 0.03\n",
      "epoch : 84/100, loss = 0.03\n",
      "epoch : 85/100, loss = 0.03\n",
      "epoch : 86/100, loss = 0.03\n",
      "epoch : 87/100, loss = 0.03\n",
      "epoch : 88/100, loss = 0.03\n",
      "epoch : 89/100, loss = 0.03\n",
      "epoch : 90/100, loss = 0.03\n",
      "epoch : 91/100, loss = 0.03\n",
      "epoch : 92/100, loss = 0.03\n",
      "epoch : 93/100, loss = 0.03\n",
      "epoch : 94/100, loss = 0.03\n",
      "epoch : 95/100, loss = 0.03\n",
      "epoch : 96/100, loss = 0.03\n",
      "epoch : 97/100, loss = 0.03\n",
      "epoch : 98/100, loss = 0.03\n",
      "epoch : 99/100, loss = 0.03\n",
      "epoch : 100/100, loss = 0.03\n"
     ]
    }
   ],
   "source": [
    "dataloader = DataLoader(SNVdata, batch_size=batch_size,\n",
    "                        shuffle=True, num_workers=0)\n",
    "device = torch.device(\"cuda\" if torch.cuda.is_available() else \"cpu\") #  use gpu if available\n",
    "\n",
    "embedAE = ReadAE(nSNP).to(device)  # Create and send model to device\n",
    "\n",
    "optimizer = optim.Adam(embedAE.parameters(), lr=1e-2)\n",
    "MSE = nn.MSELoss()\n",
    "train_loss_arr = []\n",
    "\n",
    "for epoch in range(num_epoch):\n",
    "    loss = 0\n",
    "    for batch_data in dataloader:\n",
    "        optimizer.zero_grad()  # reset the gradients back to zero\n",
    "        _, recon = embedAE(batch_data) # compute reconstructions\n",
    "        train_loss = MSE(recon, batch_data)  # compute training reconstruction loss\n",
    "        train_loss.backward()  # compute accumulated gradients\n",
    "        optimizer.step()\n",
    "        loss += train_loss.item()  # add the mini-batch training loss to epoch loss\n",
    "    loss = loss / len(dataloader)  # compute the epoch training loss\n",
    "    train_loss_arr.append(loss)\n",
    "\n",
    "    # display the epoch training loss\n",
    "    print(\"epoch : {}/{}, loss = {:.2f}\".format(epoch + 1, num_epoch, loss))"
   ]
  },
  {
   "cell_type": "code",
   "execution_count": 24,
   "metadata": {},
   "outputs": [
    {
     "name": "stdout",
     "output_type": "stream",
     "text": [
      "encoder.0.weight torch.Size([32, 1, 4, 5])\n",
      "encoder.0.bias torch.Size([32])\n",
      "encoder.1.weight torch.Size([1])\n",
      "encoder.2.weight torch.Size([64, 32, 1, 5])\n",
      "encoder.2.bias torch.Size([64])\n",
      "encoder.3.weight torch.Size([1])\n",
      "encoder.4.weight torch.Size([128, 64, 1, 3])\n",
      "encoder.4.bias torch.Size([128])\n",
      "encoder.5.weight torch.Size([1])\n",
      "fc1.weight torch.Size([136, 69376])\n",
      "fc1.bias torch.Size([136])\n",
      "fc2.weight torch.Size([69376, 136])\n",
      "fc2.bias torch.Size([69376])\n",
      "act1.weight torch.Size([1])\n",
      "decoder.0.weight torch.Size([128, 64, 1, 3])\n",
      "decoder.0.bias torch.Size([64])\n",
      "decoder.1.weight torch.Size([1])\n",
      "decoder.2.weight torch.Size([64, 32, 1, 5])\n",
      "decoder.2.bias torch.Size([32])\n",
      "decoder.3.weight torch.Size([1])\n",
      "decoder.4.weight torch.Size([32, 1, 4, 5])\n",
      "decoder.4.bias torch.Size([1])\n"
     ]
    }
   ],
   "source": [
    "for name, param in embedAE.named_parameters():\n",
    "    if param.requires_grad:\n",
    "        print(name, param.data.shape)"
   ]
  },
  {
   "cell_type": "code",
   "execution_count": 21,
   "metadata": {},
   "outputs": [
    {
     "data": {
      "text/plain": [
       "[<matplotlib.lines.Line2D at 0x7fcdc4745820>]"
      ]
     },
     "execution_count": 21,
     "metadata": {},
     "output_type": "execute_result"
    },
    {
     "data": {
      "image/png": "[encoded data removed]",
      "text/plain": [
       "<Figure size 432x288 with 1 Axes>"
      ]
     },
     "metadata": {
      "needs_background": "light"
     },
     "output_type": "display_data"
    }
   ],
   "source": [
    "plt.plot(train_loss_arr)"
   ]
  },
  {
   "cell_type": "code",
   "execution_count": null,
   "metadata": {},
   "outputs": [],
   "source": []
  }
 ],
 "metadata": {
  "kernelspec": {
   "display_name": "Python 3 (ipykernel)",
   "language": "python",
   "name": "python3"
  },
  "language_info": {
   "codemirror_mode": {
    "name": "ipython",
    "version": 3
   },
   "file_extension": ".py",
   "mimetype": "text/x-python",
   "name": "python",
   "nbconvert_exporter": "python",
   "pygments_lexer": "ipython3",
   "version": "3.9.7"
  }
 },
 "nbformat": 4,
 "nbformat_minor": 4
}
