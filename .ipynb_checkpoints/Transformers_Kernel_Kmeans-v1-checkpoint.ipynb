{
 "cells": [
  {
   "cell_type": "markdown",
   "metadata": {},
   "source": [
    "1. Modified objective function with the addition of a trace regularization, to force the diagonal elements of W to zero.\n",
    "2. Changed activation function to softmax with regularization 1/T*||W-s||_F where S is the the dissimilarity matrix as defined in SDHap.\n",
    "3. Used kernel k-means to determine haplotype memberships.\n",
    "\n",
    "Successor to Transformers_v8 (using Goemans-Williamson algorithm when determining haplotype memberships)"
   ]
  },
  {
   "cell_type": "code",
   "execution_count": 1,
   "metadata": {},
   "outputs": [],
   "source": [
    "%load_ext autoreload\n",
    "%autoreload 2"
   ]
  },
  {
   "cell_type": "code",
   "execution_count": 2,
   "metadata": {},
   "outputs": [],
   "source": [
    "import numpy as np\n",
    "from numpy import random as rn\n",
    "from scipy.spatial.distance import pdist, squareform\n",
    "from os import path\n",
    "from copy import deepcopy\n",
    "from tqdm import tqdm\n",
    "\n",
    "import logging\n",
    "from typing import Any, List, Tuple\n",
    "from nptyping import NDArray\n",
    "\n",
    "import torch\n",
    "from torch import nn\n",
    "from torch import optim\n",
    "from torch.utils.data import Dataset, DataLoader\n",
    "from torch.nn import functional as F\n",
    "\n",
    "import cvxpy as cp\n",
    "from matplotlib import pyplot as plt\n",
    "%matplotlib inline\n",
    "\n",
    "from read_embeddings import save_ckp, load_ckp, MyFilter, \\\n",
    "    ReadAE, SNVMatrixDataset, learn_embed\n",
    "from ScheduleOptim import ScheduledOptim\n",
    "from helper import read_hap, read_true_hap, compute_cpr\n",
    "from kernel_kmeans import KernelKMeans"
   ]
  },
  {
   "cell_type": "code",
   "execution_count": 3,
   "metadata": {},
   "outputs": [],
   "source": [
    "class CorrTransformer(nn.Module):\n",
    "    def __init__(self, d_model: int=512, d_qk: int=None):\n",
    "        super().__init__()\n",
    "        d_ff = 4*d_model  # Dimension of intermediate feedforward layer\n",
    "        n_head = 4  # Number of attention heads\n",
    "        if d_qk is None:\n",
    "            d_qk = int(d_model//n_head)  # Dim of query and key vectors in last attn layer\n",
    "\n",
    "        self.d_model = d_model\n",
    "        self.d_qk = d_qk\n",
    "        encoderLayer = nn.TransformerEncoderLayer(d_model, n_head, d_ff,\n",
    "                                                  batch_first=True)\n",
    "        self.encoder = nn.TransformerEncoder(encoderLayer, num_layers=2)\n",
    "        self.attn_lastq = nn.Linear(d_model, d_qk)\n",
    "#         self.attn_lastk = nn.Linear(d_model, d_qk)\n",
    "#         self.activation = nn.Tanh()\n",
    "#         self.activation = nn.Softmax(dim=-1)\n",
    "\n",
    "    def forward(self, x):\n",
    "        x_enc = self.encoder(x)\n",
    "        lastq = self.attn_lastq(x_enc)\n",
    "        Z = F.normalize(lastq, 2, dim=2)\n",
    "        \n",
    "        return torch.matmul(Z, Z.transpose(1,2))\n",
    "\n",
    "#         lastk = self.attn_lastk(x_enc)\n",
    "#         Z = self.activation(torch.matmul(lastq, lastk.transpose(1,2))\n",
    "#                             /np.sqrt(self.d_qk))\n",
    "#         return 0.5*(Z + Z.transpose(1,2))\n"
   ]
  },
  {
   "cell_type": "code",
   "execution_count": 4,
   "metadata": {},
   "outputs": [],
   "source": [
    "def det_memhap(SNVdataset: SNVMatrixDataset,\n",
    "               ae: ReadAE, xformer: CorrTransformer\n",
    "               ):\n",
    "\n",
    "    m = len(SNVdataset)\n",
    "    dataloader_full = DataLoader(SNVdataset, batch_size=m,\n",
    "                                num_workers=0)\n",
    "    for i, (data, idx) in enumerate(dataloader_full):\n",
    "        SNV_onehot = data\n",
    "        \n",
    "    ae.eval()  # Set eval flags\n",
    "    xformer.eval()  \n",
    "    \n",
    "    embed, _ = ae(SNV_onehot)  # Read embeddings\n",
    "    W_full = xformer(embed[None,:]).detach().numpy()  # Converting to numpy\n",
    "    W_full = W_full[0]  # Removing dummy dimension\n",
    "\n",
    "    kmeans = KernelKMeans(n_clusters=2, max_iter=1000, tol=1e-3)\n",
    "    kmeans.fit(W_full)\n",
    "    return 2*kmeans.labels_ - 1"
   ]
  },
  {
   "cell_type": "code",
   "execution_count": 5,
   "metadata": {},
   "outputs": [],
   "source": [
    "# get the ACGT statistics of a read matrix\n",
    "def ACGT_count(submatrix: NDArray[(Any, Any), int]):\n",
    "    out = np.zeros((submatrix.shape[1], 4))\n",
    "    for i in range(4):\n",
    "        out[:, i] = (submatrix == (i + 1)).sum(axis = 0)\n",
    "\n",
    "    return out "
   ]
  },
  {
   "cell_type": "code",
   "execution_count": 6,
   "metadata": {},
   "outputs": [],
   "source": [
    "def origin2hap(SNV_matrix: NDArray[(Any, Any), int], origin: NDArray[int],\n",
    "              num_hap: int=2) -> NDArray[(Any, Any), int]:    \n",
    "    \"\"\"\n",
    "    SNV_matrix:\n",
    "        Full read-SNV matrix\n",
    "    origin: \n",
    "        Specifies origin of each read by an int from (0, 1, ..., num_hap-1)\n",
    "        \n",
    "    Returns\n",
    "        matrix of haplotypes (haplotypes x SNPs)\n",
    "    \"\"\"\n",
    "    \n",
    "    origin_val = np.unique(origin)\n",
    "    accepted_val = np.arange(num_hap)\n",
    "    if np.any(np.intersect1d(origin_val, accepted_val) != origin_val):\n",
    "    \traise ValueError(\"Invalid origin values passed as argument.\")\n",
    "\n",
    "    hap_matrix = np.zeros((num_hap, SNV_matrix.shape[1]), dtype=int)\n",
    "    ACGTcount = ACGT_count(SNV_matrix)  # Stats of entire read matrix\n",
    "    for h in range(num_hap):\n",
    "        reads_h = SNV_matrix[origin == h]  # Reads attributed to haplotype i\n",
    "        h_stats = np.zeros((SNV_matrix.shape[1], 4))\n",
    "        \n",
    "        if len(reads_h) != 0:\n",
    "            h_stats = ACGT_count(reads_h) # ACGT statistics of a single nucleotide position\n",
    "        hap_matrix[h, :] = np.argmax(h_stats, axis = 1) + 1  # Most commonly occuring base at each pos  \n",
    "        \n",
    "        uncov_pos = np.where(np.sum(h_stats, axis = 1) == 0)[0]  # Positions uncovered by reads\n",
    "        for j in range(len(uncov_pos)):  # if not covered, select the most doninant one based on 'ACGTcount'  \n",
    "            base_max = np.flatnonzero(ACGTcount[uncov_pos[j], :] == np.amax(ACGTcount[uncov_pos[j], :])) + 1\n",
    "            if len(base_max) == 1:  # Single dominant base\n",
    "                hap_matrix[h, uncov_pos[j]] == base_max[0]\n",
    "            else:  # Choose one of the dominant bases at random\n",
    "                hap_matrix[h, uncov_pos[j]] = np.random.choice(base_max)\n",
    "\n",
    "    return hap_matrix"
   ]
  },
  {
   "cell_type": "code",
   "execution_count": 7,
   "metadata": {},
   "outputs": [],
   "source": [
    "def hamming_distance(read, haplo):\n",
    "    return sum((haplo - read)[read != 0] != 0)"
   ]
  },
  {
   "cell_type": "code",
   "execution_count": 8,
   "metadata": {},
   "outputs": [],
   "source": [
    "def MEC(SNV_matrix: NDArray[(Any, Any), int],\n",
    "        hap_matrix: NDArray[(Any, Any), int]) -> float:  # Compute MEC score\n",
    "    res = 0\n",
    "    \n",
    "    for SNV_read in SNV_matrix:\n",
    "        dis = [hamming_distance(SNV_read, hap) for j, hap in enumerate(hap_matrix)]\n",
    "        res = res + min(dis)\n",
    "        \n",
    "    return res"
   ]
  },
  {
   "cell_type": "code",
   "execution_count": 9,
   "metadata": {},
   "outputs": [],
   "source": [
    "def readW(SNVdataset: SNVMatrixDataset, \n",
    "          ae: ReadAE, xformer: CorrTransformer\n",
    "         ) -> NDArray[(Any, Any), float]:\n",
    "    \n",
    "    m = len(SNVdataset)\n",
    "    dataloader_full = DataLoader(SNVdataset, batch_size=m,\n",
    "                                num_workers=0)\n",
    "    for i, (data, idx) in enumerate(dataloader_full):\n",
    "        SNV_onehot = data\n",
    "        \n",
    "    ae.eval()  # Set eval flags\n",
    "    xformer.eval()  \n",
    "    \n",
    "    embed, _ = ae(SNV_onehot)  # Read embeddings\n",
    "    W_full = xformer(embed[None,:]).detach().numpy()  # Converting to numpy\n",
    "    return W_full[0]"
   ]
  },
  {
   "cell_type": "code",
   "execution_count": 10,
   "metadata": {},
   "outputs": [],
   "source": [
    "def refine(hap_matrix: NDArray[(Any, Any), int],\n",
    "           SNV_matrix: NDArray[(Any, Any), int],\n",
    "           verbose=False\n",
    "          ) -> NDArray[(Any, Any), int]: \n",
    "    \"\"\"\n",
    "    This function greedily refines the haplotype matrix by iterating through the\n",
    "    SNPs and flipping the haplotype bases. The flip is accepted (greedily) if it\n",
    "    improves the MEC score.\n",
    "\n",
    "    \"\"\"\n",
    "\n",
    "    hap_matrix_greedy = deepcopy(hap_matrix)  # Refined solution\n",
    "    mec_curr = MEC(SNV_matrix, hap_matrix)  # Current MEC\n",
    "\n",
    "    hap_matrix_new = deepcopy(hap_matrix)\n",
    "    while True:\n",
    "        mec_startiter = mec_curr\n",
    "        for j in range(np.shape(hap_matrix)[1]):\n",
    "            hap_matrix_new[:,j] = hap_matrix[:,j][::-1]  # Flip base\n",
    "            mec_new = MEC(SNV_matrix, hap_matrix_new)\n",
    "            if mec_new < mec_curr:  # Update refined solution\n",
    "                mec_curr = mec_new\n",
    "                hap_matrix_greedy[:,j] = hap_matrix[:,j][::-1]\n",
    "            else:  # Reverse base flip\n",
    "                hap_matrix_new[:,j] = hap_matrix[:,j]\n",
    "        if mec_curr == mec_startiter:  # Greedy refinement not improving MEC\n",
    "            return hap_matrix_greedy\n",
    "        elif verbose:\n",
    "            print(\"MEC improved from %i to %i\"%(mec_startiter, mec_curr))"
   ]
  },
  {
   "cell_type": "markdown",
   "metadata": {},
   "source": [
    "Set up dataloader and hyperparameters."
   ]
  },
  {
   "cell_type": "code",
   "execution_count": 46,
   "metadata": {},
   "outputs": [],
   "source": [
    "outhead = 'cov20_hlen100'\n",
    "\n",
    "# datapath = 'Simulated_data/diploid/cov15/sample1/simu_erro1_K2_cov5'\\\n",
    "#             '_l5000_iter_1_SNV_matrix.txt'\n",
    "datapath = 'generate_data/' + outhead + '/' + outhead + '_SNV_matrix.txt'\n",
    "SNVdata = SNVMatrixDataset(datapath)\n",
    "SNV_matrix = np.loadtxt(datapath, dtype=int)\n",
    "SNV_matrix = SNV_matrix[np.sum(SNV_matrix != 0, axis=1) > 1]  # Removing uninformative reads\n",
    "nSNP = SNV_matrix.shape[1] # Number of SNVs\n",
    "num_read = len(SNVdata)  # Number of reads\n",
    "batch_size = int(np.ceil(num_read/20))\n",
    "d_model = 128  # Size of embeddings\n",
    "\n",
    "dataloader = DataLoader(SNVdata, batch_size=batch_size,\n",
    "                        shuffle=True, num_workers=0)"
   ]
  },
  {
   "cell_type": "markdown",
   "metadata": {},
   "source": [
    "Read in ground truth."
   ]
  },
  {
   "cell_type": "code",
   "execution_count": 192,
   "metadata": {},
   "outputs": [],
   "source": [
    "# gt_file = \"Simulated_data/diploid/cov15/sample1/combined.fa\"\n",
    "# pos_file = \"Simulated_data/diploid/cov15/sample1/\"\\\n",
    "#             \"simu_erro1_K2_cov5_l5000_iter_1_SNV_pos.txt\"\n",
    "gt_file = 'generate_data/' + outhead + '/combined.fa'\n",
    "pos_file = 'generate_data/' + outhead + '/' + outhead + '_SNV_pos.txt'\n",
    "true_haplo = read_true_hap(gt_file, pos_file)"
   ]
  },
  {
   "cell_type": "markdown",
   "metadata": {},
   "source": [
    "Load autoencoder for read embeddings. If the weights aren't stored in savefile, train autoencoder for said embeddings."
   ]
  },
  {
   "cell_type": "code",
   "execution_count": 193,
   "metadata": {},
   "outputs": [
    {
     "name": "stderr",
     "output_type": "stream",
     "text": [
      "100%|█████████████████████████████████████████████████████████████████████████████████| 100/100 [02:09<00:00,  1.29s/it]\n"
     ]
    }
   ],
   "source": [
    "savefile=\"read_AE\"\n",
    "embedAE = learn_embed(SNVdata, num_epoch=100, embed_dim=d_model, savefile=savefile)\n",
    "\n",
    "# if path.isfile(savefile):\n",
    "#     embedAE = ReadAE(nSNP, latent_dim=d_model)\n",
    "#     embed_optimizer = optim.Adam(embedAE.parameters(), lr=1e-2)\n",
    "#     embedAE, embed_optimizer, _ = load_ckp(savefile, embedAE, embed_optimizer)\n",
    "# else:\n",
    "#     embedAE = learn_embed(SNVdata, num_epoch=100, embed_dim=d_model, savefile=savefile)\n"
   ]
  },
  {
   "cell_type": "markdown",
   "metadata": {},
   "source": [
    "Setting up transformer with hyperparameters and training it."
   ]
  },
  {
   "cell_type": "code",
   "execution_count": 256,
   "metadata": {},
   "outputs": [],
   "source": [
    "corr_xformer = CorrTransformer(d_model, d_model//2)  # Transformer\n",
    "num_epoch = 100\n",
    "warmup_steps = 10  # Number of steps to linear increase learning rate\n",
    "\n",
    "# xform_optimizer = ScheduledOptim(\n",
    "#     optim.Adam(corr_xformer.parameters(), betas=(0.9, 0.98), eps=1e-09),\n",
    "#         lr_mul=0.1, d_model=d_model, n_warmup_steps=warmup_steps) # Optimizer with customized schedule\n",
    "xform_optimizer = optim.AdamW(corr_xformer.parameters())"
   ]
  },
  {
   "cell_type": "code",
   "execution_count": 257,
   "metadata": {},
   "outputs": [],
   "source": [
    "def xformer_loss(xformer_output: torch.Tensor, origin: torch.Tensor,\n",
    "                 Ws: torch.Tensor, Wmask: torch.Tensor,\n",
    "                 lambda_reg: float = 0.1) -> float:\n",
    "    \n",
    "    origin_main = origin.type(torch.FloatTensor)\n",
    "    obj_main = -1*torch.matmul(origin_main, torch.matmul(xformer_output, origin_main))\n",
    "    origin_onehot = F.one_hot(origin + 1)\n",
    "    pair_mem = torch.matmul(origin_onehot, origin_onehot.transpose(0,1))\n",
    "#     for j in torch.unique(origin):\n",
    "#         print(torch.sum(origin==j))\n",
    "#         pair_mem[origin==j, :][:, origin==j] = 1\n",
    "#         print(np.nonzero(pair_mem))\n",
    "#     print(torch.sum(pair_mem))\n",
    "    obj_cont = torch.sum((1-pair_mem)*xformer_output**2 + pair_mem*torch.clamp(1-xformer_output, min=0)**2)\n",
    "    obj_reg = lambda_reg*torch.linalg.norm(xformer_output*Wmask - Ws)**2\n",
    "    \n",
    "    res = obj_cont + obj_reg\n",
    "    \n",
    "    return res"
   ]
  },
  {
   "cell_type": "code",
   "execution_count": 258,
   "metadata": {},
   "outputs": [
    {
     "data": {
      "text/plain": [
       "(array([-1,  1]), array([457, 432]))"
      ]
     },
     "execution_count": 258,
     "metadata": {},
     "output_type": "execute_result"
    }
   ],
   "source": [
    "torch.matmul(F.one_hot(torch.from_numpy((hap_origin+1))),\n",
    "            F.one_hot(torch.from_numpy((hap_origin+1))).transpose(0,1)\n",
    "           )[0]\n",
    "np.unique(hap_origin, return_counts=True)"
   ]
  },
  {
   "cell_type": "code",
   "execution_count": 259,
   "metadata": {},
   "outputs": [],
   "source": [
    "logger = logging.getLogger(__name__)\n",
    "logger.setLevel(logging.INFO)\n",
    "\n",
    "# Create handlers\n",
    "c_handler = logging.StreamHandler()\n",
    "f_handler = logging.FileHandler('xformer_train.log')\n",
    "c_handler.setLevel(logging.WARNING)\n",
    "f_handler.setLevel(logging.INFO)\n",
    "f_handler.addFilter(MyFilter(logging.INFO))\n",
    "\n",
    "# Create formatters and add it to handlers\n",
    "c_format = logging.Formatter('%(name)s - %(levelname)s - %(message)s')\n",
    "f_format = logging.Formatter('%(message)s')\n",
    "c_handler.setFormatter(c_format)\n",
    "f_handler.setFormatter(f_format)\n",
    "\n",
    "# Add handlers to the logger\n",
    "logger.addHandler(c_handler)\n",
    "logger.addHandler(f_handler)"
   ]
  },
  {
   "cell_type": "code",
   "execution_count": 260,
   "metadata": {},
   "outputs": [
    {
     "name": "stdout",
     "output_type": "stream",
     "text": [
      "int64\n"
     ]
    },
    {
     "name": "stderr",
     "output_type": "stream",
     "text": [
      "100%|████████████████████████████████████████████████████████████████████████████████| 889/889 [00:05<00:00, 154.01it/s]\n"
     ]
    }
   ],
   "source": [
    "xform_train_loss_arr = []\n",
    "mec = []\n",
    "cpr = []\n",
    "xformer_savefile = \"corr_xformer\"\n",
    "\n",
    "hap_origin = det_memhap(SNVdata, embedAE, corr_xformer)  # Initial haplotype memberships\n",
    "print(hap_origin.dtype)\n",
    "hap_matrix = origin2hap(SNV_matrix, (hap_origin.astype(int) + 1)/2) \n",
    "mec.append(MEC(SNV_matrix, hap_matrix))\n",
    "cpr.append(compute_cpr(hap_matrix, true_haplo))\n",
    "mec_min = np.inf\n",
    "cpr_max = 0\n",
    "\n",
    "num_reads = np.shape(SNV_matrix)[0]\n",
    "W_sim = np.zeros((num_reads, num_reads))\n",
    "W_dissim = np.zeros((num_reads, num_reads))\n",
    "W_mask = np.zeros((num_reads, num_reads), dtype=bool)\n",
    "\n",
    "# Computing similarity matrix for supervision\n",
    "for i, read_i in enumerate(tqdm(SNV_matrix)):\n",
    "    for j, read_j in enumerate(SNV_matrix):\n",
    "        if np.any((read_i != 0) & (read_j != 0)):  # Only if reads overlap\n",
    "            W_mask[i, j] = True\n",
    "            W_sim[i, j] = np.sum((read_i == read_j)[(read_i != 0) | (read_j != 0)])\n",
    "            W_dissim[i, j] = np.sum((read_i != read_j)[(read_i != 0) | (read_j != 0)])\n",
    "\n",
    "W_mask = torch.from_numpy(W_mask)\n",
    "W_sup = torch.from_numpy((W_sim - W_dissim)/(W_sim + W_dissim + 1e-10))"
   ]
  },
  {
   "cell_type": "code",
   "execution_count": 261,
   "metadata": {},
   "outputs": [
    {
     "name": "stdout",
     "output_type": "stream",
     "text": [
      "epoch : 1/100, loss = 662152.63\n",
      "epoch : 2/100, loss = 440573.69\n",
      "epoch : 3/100, loss = 465403.35\n",
      "epoch : 4/100, loss = 495922.62\n",
      "epoch : 5/100, loss = 416046.46\n",
      "epoch : 6/100, loss = 367637.88\n",
      "epoch : 7/100, loss = 400859.19\n",
      "epoch : 8/100, loss = 365194.72\n",
      "epoch : 9/100, loss = 392315.10\n",
      "epoch : 10/100, loss = 448384.64\n",
      "epoch : 11/100, loss = 387015.14\n",
      "epoch : 12/100, loss = 406251.60\n",
      "epoch : 13/100, loss = 403965.14\n",
      "epoch : 14/100, loss = 427344.04\n",
      "epoch : 15/100, loss = 419232.60\n",
      "epoch : 16/100, loss = 415673.33\n",
      "epoch : 17/100, loss = 371486.25\n",
      "epoch : 18/100, loss = 352445.31\n",
      "epoch : 19/100, loss = 424301.99\n",
      "epoch : 20/100, loss = 382580.54\n",
      "epoch : 21/100, loss = 360300.29\n",
      "epoch : 22/100, loss = 389889.65\n",
      "epoch : 23/100, loss = 378357.79\n",
      "epoch : 24/100, loss = 354268.92\n",
      "epoch : 25/100, loss = 336663.06\n",
      "epoch : 26/100, loss = 373309.94\n",
      "epoch : 27/100, loss = 378009.42\n",
      "epoch : 28/100, loss = 346899.12\n",
      "epoch : 29/100, loss = 393916.38\n",
      "epoch : 30/100, loss = 363047.93\n",
      "epoch : 31/100, loss = 381373.87\n",
      "epoch : 32/100, loss = 403803.11\n",
      "epoch : 33/100, loss = 377571.33\n",
      "epoch : 34/100, loss = 420924.27\n",
      "epoch : 35/100, loss = 375526.55\n",
      "epoch : 36/100, loss = 413870.20\n",
      "epoch : 37/100, loss = 403567.91\n",
      "epoch : 38/100, loss = 378856.95\n",
      "epoch : 39/100, loss = 361487.76\n",
      "epoch : 40/100, loss = 365317.41\n",
      "epoch : 41/100, loss = 390554.02\n",
      "epoch : 42/100, loss = 371815.67\n",
      "epoch : 43/100, loss = 330633.14\n",
      "epoch : 44/100, loss = 364346.04\n",
      "epoch : 45/100, loss = 383250.15\n",
      "epoch : 46/100, loss = 385583.88\n",
      "epoch : 47/100, loss = 367533.93\n",
      "epoch : 48/100, loss = 357360.08\n",
      "epoch : 49/100, loss = 365484.50\n",
      "epoch : 50/100, loss = 356030.11\n",
      "epoch : 51/100, loss = 362407.89\n",
      "epoch : 52/100, loss = 356686.66\n",
      "epoch : 53/100, loss = 350216.73\n",
      "epoch : 54/100, loss = 365146.32\n",
      "epoch : 55/100, loss = 344076.05\n",
      "epoch : 56/100, loss = 420246.70\n",
      "epoch : 57/100, loss = 377587.54\n",
      "epoch : 58/100, loss = 371650.43\n",
      "epoch : 59/100, loss = 379310.65\n",
      "epoch : 60/100, loss = 321536.44\n",
      "epoch : 61/100, loss = 409427.00\n",
      "epoch : 62/100, loss = 390843.24\n",
      "epoch : 63/100, loss = 386804.90\n",
      "epoch : 64/100, loss = 394814.68\n",
      "epoch : 65/100, loss = 423600.70\n",
      "epoch : 66/100, loss = 358892.19\n",
      "epoch : 67/100, loss = 374590.15\n",
      "epoch : 68/100, loss = 382519.37\n",
      "epoch : 69/100, loss = 334735.49\n",
      "epoch : 70/100, loss = 331384.95\n",
      "epoch : 71/100, loss = 392859.69\n",
      "epoch : 72/100, loss = 366369.30\n",
      "epoch : 73/100, loss = 350952.47\n",
      "epoch : 74/100, loss = 390245.18\n",
      "epoch : 75/100, loss = 352989.64\n",
      "epoch : 76/100, loss = 351227.97\n",
      "epoch : 77/100, loss = 308332.37\n",
      "epoch : 78/100, loss = 334439.41\n",
      "epoch : 79/100, loss = 392121.39\n",
      "epoch : 80/100, loss = 396560.53\n",
      "epoch : 81/100, loss = 370225.17\n",
      "epoch : 82/100, loss = 344227.11\n",
      "epoch : 83/100, loss = 373107.91\n",
      "epoch : 84/100, loss = 355378.19\n",
      "epoch : 85/100, loss = 353253.18\n",
      "epoch : 86/100, loss = 353210.10\n",
      "epoch : 87/100, loss = 333058.99\n",
      "epoch : 88/100, loss = 334822.15\n",
      "epoch : 89/100, loss = 359205.45\n",
      "epoch : 90/100, loss = 354110.03\n",
      "epoch : 91/100, loss = 358155.83\n",
      "epoch : 92/100, loss = 361636.88\n",
      "epoch : 93/100, loss = 382037.71\n",
      "epoch : 94/100, loss = 355898.84\n",
      "epoch : 95/100, loss = 319108.91\n",
      "epoch : 96/100, loss = 349244.91\n",
      "epoch : 97/100, loss = 332611.43\n",
      "epoch : 98/100, loss = 353328.73\n",
      "epoch : 99/100, loss = 386614.88\n",
      "epoch : 100/100, loss = 358796.89\n"
     ]
    }
   ],
   "source": [
    "for epoch in range(num_epoch):\n",
    "    xform_train_loss = 0\n",
    "    embedAE.train()  # Set train flags\n",
    "    corr_xformer.train()\n",
    "\n",
    "    for batch_data, batch_idx in dataloader:\n",
    "        xform_optimizer.zero_grad()\n",
    "        embed, recon = embedAE(batch_data)\n",
    "        Z_batch = corr_xformer(embed[None,:])\n",
    "        xform_loss = xformer_loss(Z_batch[0],\n",
    "                                  torch.from_numpy(hap_origin[batch_idx]),\n",
    "                                  W_sup[batch_idx][:,batch_idx],\n",
    "                                  W_mask[batch_idx][:,batch_idx],\n",
    "                                  lambda_reg=1e4)\n",
    "        xform_loss.backward()\n",
    "#         xform_optimizer.step_and_update_lr()\n",
    "        xform_optimizer.step()\n",
    "        xform_train_loss += xform_loss.item()\n",
    "    \n",
    "    xform_train_loss = xform_train_loss / len(dataloader)\n",
    "    xform_train_loss_arr.append(xform_train_loss)\n",
    "    \n",
    "    hap_origin = det_memhap(SNVdata, embedAE, corr_xformer)  # Initial haplotype memberships\n",
    "    hap_matrix = origin2hap(SNV_matrix, (hap_origin.astype(int) + 1)/2)\n",
    "#     hap_matrix = refine(hap_matrix, SNV_matrix)\n",
    "\n",
    "    mec_curr = MEC(SNV_matrix, hap_matrix)\n",
    "    if mec_curr < mec_min:\n",
    "        mec_min = mec_curr\n",
    "        W_best = readW(SNVdata, embedAE, corr_xformer)\n",
    "        hap_origin_best = 1*hap_origin\n",
    "        hap_matrix_best = 1*hap_matrix\n",
    "        epoch_best = epoch\n",
    "    cpr_curr = compute_cpr(hap_matrix, true_haplo)\n",
    "    if cpr_curr > cpr_max:\n",
    "        cpr_max = cpr_curr\n",
    "    mec.append(mec_curr)\n",
    "    cpr.append(cpr_curr)\n",
    "    \n",
    "    # Display epoch training loss\n",
    "    logger.info(\"epoch : {}/{}, loss = {:.2f}\".format(epoch + 1, num_epoch, xform_train_loss))\n",
    "    print(\"epoch : {}/{}, loss = {:.2f}\".format(epoch + 1, num_epoch, xform_train_loss))\n",
    "    if xformer_savefile and (epoch % 10 == 0):\n",
    "        checkpoint = {\n",
    "        'epoch': epoch + 1,\n",
    "        'state_dict': embedAE.state_dict(),\n",
    "#         'optimizer': xform_optimizer.state_dict(),\n",
    "        }\n",
    "        save_ckp(checkpoint, xformer_savefile)"
   ]
  },
  {
   "cell_type": "code",
   "execution_count": 262,
   "metadata": {},
   "outputs": [
    {
     "data": {
      "text/plain": [
       "[<matplotlib.lines.Line2D at 0x7fd46810ab20>]"
      ]
     },
     "execution_count": 262,
     "metadata": {},
     "output_type": "execute_result"
    },
    {
     "data": {
      "image/png": "[encoded data removed]",
      "text/plain": [
       "<Figure size 432x288 with 1 Axes>"
      ]
     },
     "metadata": {
      "needs_background": "light"
     },
     "output_type": "display_data"
    }
   ],
   "source": [
    "plt.plot(mec)"
   ]
  },
  {
   "cell_type": "code",
   "execution_count": 263,
   "metadata": {},
   "outputs": [
    {
     "data": {
      "text/plain": [
       "[<matplotlib.lines.Line2D at 0x7fd4681519d0>]"
      ]
     },
     "execution_count": 263,
     "metadata": {},
     "output_type": "execute_result"
    },
    {
     "data": {
      "image/png": "[encoded data removed]",
      "text/plain": [
       "<Figure size 432x288 with 1 Axes>"
      ]
     },
     "metadata": {
      "needs_background": "light"
     },
     "output_type": "display_data"
    }
   ],
   "source": [
    "plt.plot(cpr)"
   ]
  },
  {
   "cell_type": "code",
   "execution_count": 264,
   "metadata": {},
   "outputs": [
    {
     "name": "stdout",
     "output_type": "stream",
     "text": [
      "[[1.         0.18455463]\n",
      " [0.18455463 1.        ]]\n",
      "[(246, 0.5889570552147239), (251, 0.5889570552147239), (265, 0.5828220858895705)]\n"
     ]
    },
    {
     "data": {
      "image/png": "[encoded data removed]",
      "text/plain": [
       "<Figure size 432x288 with 1 Axes>"
      ]
     },
     "metadata": {
      "needs_background": "light"
     },
     "output_type": "display_data"
    }
   ],
   "source": [
    "plt.scatter(mec, cpr)\n",
    "plt.xlabel('MEC score')\n",
    "plt.ylabel('CPR')\n",
    "\n",
    "idx_best = np.argsort(mec)[:3]\n",
    "plt.scatter(np.array(mec)[idx_best], np.array(cpr)[idx_best], color='red')\n",
    "\n",
    "print(np.corrcoef(mec, cpr))\n",
    "print(list(zip(np.array(mec)[idx_best], np.array(cpr)[idx_best])))"
   ]
  },
  {
   "cell_type": "code",
   "execution_count": 181,
   "metadata": {},
   "outputs": [
    {
     "data": {
      "text/plain": [
       "Text(0.5, 0, 'SNP')"
      ]
     },
     "execution_count": 181,
     "metadata": {},
     "output_type": "execute_result"
    },
    {
     "data": {
      "image/png": "[encoded data removed]",
      "text/plain": [
       "<Figure size 1080x504 with 1 Axes>"
      ]
     },
     "metadata": {
      "needs_background": "light"
     },
     "output_type": "display_data"
    }
   ],
   "source": [
    "plt.figure(figsize=(15,7))\n",
    "plt.stem(np.sum(SNV_matrix > 0, axis=0))\n",
    "plt.ylabel('Number of reads covering SNP')\n",
    "plt.xlabel('SNP')"
   ]
  },
  {
   "cell_type": "code",
   "execution_count": null,
   "metadata": {},
   "outputs": [],
   "source": [
    "np.savez('xformer_res', rec_hap=hap_matrix_best, rec_hap_origin=hap_origin_best, true_hap=true_haplo)\n",
    "np.savez('sdhap_res', rec_hap=hap_matrix_sdhap, rec_hap_origin=hap_origin_sdhap, true_hap=true_haplo)\n",
    "np.savez('SNV_matrix', SNV_matrix=SNV_matrix)"
   ]
  },
  {
   "cell_type": "markdown",
   "metadata": {},
   "source": [
    "### Examining learned W"
   ]
  },
  {
   "cell_type": "code",
   "execution_count": 265,
   "metadata": {},
   "outputs": [
    {
     "data": {
      "text/plain": [
       "torch.Size([889, 1, 4, 163])"
      ]
     },
     "execution_count": 265,
     "metadata": {},
     "output_type": "execute_result"
    }
   ],
   "source": [
    "m = len(SNVdata)\n",
    "dataloader_full = DataLoader(SNVdata, batch_size=m,\n",
    "                            num_workers=0)\n",
    "for i, (data, idx) in enumerate(dataloader_full):\n",
    "    SNV_onehot = data\n",
    "SNV_onehot.shape"
   ]
  },
  {
   "cell_type": "code",
   "execution_count": 266,
   "metadata": {},
   "outputs": [],
   "source": [
    "SNV_sim_tensor = torch.squeeze(torch.tensordot(SNV_onehot, SNV_onehot, dims=[[2,3], [2,3]]))"
   ]
  },
  {
   "cell_type": "code",
   "execution_count": 267,
   "metadata": {},
   "outputs": [
    {
     "data": {
      "text/plain": [
       "tensor([2., 2., 0., 0., 0., 0., 0., 0., 0., 0., 0., 0., 0., 0., 0., 0., 0., 0.,\n",
       "        0., 0., 0., 0., 0., 0., 0., 0., 0., 0., 0., 0., 0., 0., 0., 0., 0., 0.,\n",
       "        0., 0., 0., 0., 0., 0., 0., 0., 1., 0., 0., 0., 0., 0., 0., 0., 1., 0.,\n",
       "        0., 0., 0., 0., 0., 0., 0., 0., 0., 0., 0., 2., 0., 0., 0., 0., 0., 0.,\n",
       "        0., 0., 0., 0., 0., 0., 0., 0., 0., 0., 0., 0., 0., 0., 0., 0., 0., 0.,\n",
       "        0., 0., 0., 0., 0., 0., 0., 0., 0., 0., 0., 0., 0., 0., 0., 0., 0., 0.,\n",
       "        0., 0., 0., 0., 0., 0., 0., 0., 0., 0., 0., 0., 0., 0., 0., 0., 0., 0.,\n",
       "        0., 0., 0., 0., 0., 0., 0., 0., 0., 0., 0., 0., 0., 0., 0., 0., 0., 0.,\n",
       "        0., 0., 0., 0., 0., 0., 2., 0., 0., 0., 0., 0., 0., 0., 0., 0., 0., 0.,\n",
       "        0., 0., 0., 0., 0., 0., 0., 0., 0., 0., 0., 0., 0., 0., 0., 0., 0., 0.,\n",
       "        0., 0., 0., 0., 0., 0., 0., 0., 0., 0., 0., 0., 0., 0., 0., 0., 0., 0.,\n",
       "        0., 0., 0., 0., 0., 0., 0., 0., 0., 0., 1., 0., 0., 0., 0., 0., 0., 0.,\n",
       "        0., 0., 0., 0., 0., 0., 0., 0., 0., 0., 0., 0., 0., 0., 0., 0., 0., 0.,\n",
       "        0., 0., 0., 0., 0., 0., 0., 0., 0., 0., 0., 0., 0., 0., 0., 0., 0., 0.,\n",
       "        0., 0., 0., 0., 0., 0., 0., 0., 0., 0., 0., 0., 0., 0., 0., 0., 0., 0.,\n",
       "        0., 0., 0., 0., 0., 0., 0., 0., 0., 0., 0., 0., 0., 0., 0., 0., 0., 0.,\n",
       "        0., 0., 0., 0., 0., 0., 0., 0., 0., 0., 0., 0., 0., 0., 0., 0., 0., 0.,\n",
       "        0., 0., 0., 0., 0., 0., 0., 0., 0., 0., 0., 0., 0., 0., 0., 0., 0., 0.,\n",
       "        0., 0., 0., 0., 0., 0., 0., 0., 0., 0., 0., 0., 0., 0., 0., 0., 0., 0.,\n",
       "        0., 0., 0., 0., 0., 0., 0., 0., 1., 0., 0., 0., 0., 0., 0., 0., 0., 0.,\n",
       "        0., 0., 0., 0., 0., 0., 0., 0., 0., 0., 0., 0., 0., 0., 0., 0., 0., 0.,\n",
       "        0., 0., 0., 0., 0., 0., 0., 0., 0., 0., 0., 0., 0., 0., 0., 0., 0., 0.,\n",
       "        0., 0., 0., 0., 0., 0., 0., 0., 0., 0., 0., 0., 0., 0., 0., 0., 0., 0.,\n",
       "        0., 0., 0., 0., 0., 0., 0., 0., 0., 0., 0., 2., 1., 0., 0., 0., 0., 0.,\n",
       "        0., 0., 0., 0., 0., 0., 0., 0., 0., 0., 0., 0., 0., 0., 0., 0., 0., 0.,\n",
       "        0., 0., 0., 0., 0., 0., 0., 0., 0., 0., 0., 0., 0., 0., 0., 0., 0., 0.,\n",
       "        0., 0., 0., 0., 0., 0., 0., 0., 0., 0., 0., 0., 0., 0., 0., 0., 0., 0.,\n",
       "        0., 0., 0., 0., 0., 0., 0., 0., 0., 0., 0., 0., 0., 0., 0., 0., 0., 0.,\n",
       "        0., 0., 0., 0., 0., 0., 0., 0., 0., 0., 0., 0., 0., 0., 0., 0., 0., 0.,\n",
       "        0., 0., 0., 0., 0., 0., 0., 0., 0., 0., 0., 0., 0., 0., 0., 0., 0., 0.,\n",
       "        0., 0., 0., 0., 0., 0., 0., 0., 0., 0., 0., 0., 0., 0., 0., 0., 0., 0.,\n",
       "        0., 0., 0., 0., 0., 0., 0., 0., 0., 0., 0., 0., 0., 0., 0., 0., 0., 0.,\n",
       "        0., 0., 0., 0., 0., 0., 0., 0., 0., 0., 0., 0., 0., 0., 0., 0., 0., 0.,\n",
       "        0., 0., 0., 0., 0., 0., 0., 0., 0., 0., 0., 0., 0., 0., 0., 0., 0., 0.,\n",
       "        0., 0., 0., 0., 0., 0., 0., 0., 0., 0., 0., 0., 0., 0., 0., 0., 0., 0.,\n",
       "        0., 0., 0., 0., 0., 0., 0., 0., 0., 0., 0., 0., 0., 0., 0., 0., 0., 0.,\n",
       "        0., 0., 0., 0., 0., 0., 0., 0., 0., 0., 0., 0., 0., 0., 0., 0., 0., 0.,\n",
       "        0., 0., 0., 0., 0., 0., 0., 0., 0., 0., 0., 0., 0., 0., 0., 0., 0., 0.,\n",
       "        0., 0., 0., 0., 0., 0., 0., 0., 0., 0., 0., 0., 0., 0., 0., 0., 0., 0.,\n",
       "        0., 0., 0., 0., 0., 0., 0., 0., 0., 0., 0., 0., 0., 0., 0., 0., 0., 0.,\n",
       "        0., 0., 0., 0., 0., 0., 0., 0., 0., 0., 0., 0., 0., 0., 0., 0., 0., 0.,\n",
       "        0., 0., 0., 0., 0., 0., 0., 0., 0., 0., 0., 0., 0., 0., 0., 0., 0., 0.,\n",
       "        0., 0., 0., 0., 0., 0., 0., 0., 0., 0., 0., 0., 0., 0., 0., 0., 0., 0.,\n",
       "        0., 0., 0., 0., 0., 0., 0., 0., 0., 0., 0., 0., 0., 0., 0., 0., 0., 0.,\n",
       "        0., 0., 0., 0., 0., 0., 0., 0., 0., 0., 0., 0., 0., 0., 0., 0., 0., 0.,\n",
       "        0., 0., 0., 0., 0., 0., 0., 0., 0., 0., 0., 0., 0., 0., 0., 0., 0., 0.,\n",
       "        0., 0., 0., 0., 0., 0., 0., 0., 0., 0., 0., 0., 0., 0., 0., 0., 0., 0.,\n",
       "        0., 0., 0., 0., 0., 0., 0., 0., 0., 0., 0., 0., 0., 0., 0., 0., 0., 0.,\n",
       "        0., 0., 0., 0., 0., 0., 0., 0., 0., 0., 0., 0., 0., 0., 0., 0., 0., 0.,\n",
       "        0., 0., 0., 0., 0., 0., 0.])"
      ]
     },
     "execution_count": 267,
     "metadata": {},
     "output_type": "execute_result"
    }
   ],
   "source": [
    "SNV_sim_tensor[1]"
   ]
  },
  {
   "cell_type": "code",
   "execution_count": 268,
   "metadata": {},
   "outputs": [
    {
     "name": "stdout",
     "output_type": "stream",
     "text": [
      "Overlapping reads:  tensor([  0,   1,  44,  52,  65, 150, 208, 350, 425, 426])\n",
      "SNPs covered by read  1  : (array([156, 157]),)\n",
      "SNPs covered by read  tensor(0)  : (array([156, 157]),)  giving overlap of  tensor(2.)\n",
      "SNPs covered by read  tensor(1)  : (array([156, 157]),)  giving overlap of  tensor(2.)\n",
      "SNPs covered by read  tensor(44)  : (array([156, 157]),)  giving overlap of  tensor(1.)\n",
      "SNPs covered by read  tensor(52)  : (array([157, 160]),)  giving overlap of  tensor(1.)\n",
      "SNPs covered by read  tensor(65)  : (array([156, 157]),)  giving overlap of  tensor(2.)\n",
      "SNPs covered by read  tensor(150)  : (array([156, 157]),)  giving overlap of  tensor(2.)\n",
      "SNPs covered by read  tensor(208)  : (array([157, 160]),)  giving overlap of  tensor(1.)\n",
      "SNPs covered by read  tensor(350)  : (array([157, 160]),)  giving overlap of  tensor(1.)\n",
      "SNPs covered by read  tensor(425)  : (array([156, 157]),)  giving overlap of  tensor(2.)\n",
      "SNPs covered by read  tensor(426)  : (array([157, 160, 161, 162]),)  giving overlap of  tensor(1.)\n",
      "[ 1.          1.          0.         -0.33333333  1.          1.\n",
      " -0.33333333 -0.33333333  1.         -0.6       ]\n",
      "[2. 2. 1. 1. 2. 2. 1. 1. 2. 1.]\n",
      "[0. 0. 1. 2. 0. 0. 2. 2. 0. 4.]\n",
      "(2.0, 0.0, 0.99999999995) (2.0, 0.0, 0.99999999995) (1.0, 1.0, 0.0) (1.0, 2.0, -0.3333333333222222) (2.0, 0.0, 0.99999999995) (2.0, 0.0, 0.99999999995) (1.0, 2.0, -0.3333333333222222) (1.0, 2.0, -0.3333333333222222) (2.0, 0.0, 0.99999999995) (1.0, 4.0, -0.599999999988)\n"
     ]
    }
   ],
   "source": [
    "i = 1\n",
    "overlap_idx = torch.nonzero(SNV_sim_tensor[i])\n",
    "print('Overlapping reads: ', torch.squeeze(overlap_idx))\n",
    "print('SNPs covered by read ', i, ' :', np.nonzero(SNV_matrix[i]))\n",
    "\n",
    "for idx in torch.squeeze(overlap_idx):\n",
    "    print('SNPs covered by read ', idx, ' :', np.nonzero(SNV_matrix[idx]), ' giving overlap of ', SNV_sim_tensor[i, idx])\n",
    "\n",
    "print((W_sup[i]).numpy()[overlap_idx[:,0]])\n",
    "print(W_sim[i][overlap_idx[:,0]])\n",
    "print(W_dissim[i][overlap_idx[:,0]])\n",
    "\n",
    "print(*zip(W_sim[i][overlap_idx[:,0]],\n",
    "           W_dissim[i][overlap_idx[:,0]],\n",
    "           W_sup[i].numpy()[overlap_idx[:,0]]))\n"
   ]
  },
  {
   "cell_type": "code",
   "execution_count": 269,
   "metadata": {},
   "outputs": [
    {
     "name": "stdout",
     "output_type": "stream",
     "text": [
      "Max diagonal value:  1.0000005\n",
      "Mean W:  0.35038137 SD of W:  0.5152477\n",
      "Deviation from mean:  [[ 0.64961857  0.64961857  0.32666624 ...  0.5514886   0.5514886\n",
      "   0.01080379]\n",
      " [ 0.64961857  0.64961857  0.32666624 ...  0.5514886   0.5514886\n",
      "   0.01080379]\n",
      " [ 0.32666624  0.32666624  0.6496185  ...  0.15457237  0.15457237\n",
      "   0.00496393]\n",
      " ...\n",
      " [ 0.5514886   0.5514886   0.15457237 ...  0.64961874  0.64961874\n",
      "  -0.3598016 ]\n",
      " [ 0.5514886   0.5514886   0.15457237 ...  0.64961874  0.64961874\n",
      "  -0.3598016 ]\n",
      " [ 0.01080379  0.01080379  0.00496393 ... -0.3598016  -0.3598016\n",
      "   0.64961874]]\n",
      "[ 0.99999994  0.99999994  0.90186995  0.7062675   0.99999994  0.99999994\n",
      "  0.7062675   0.7062675   0.99999994 -0.6189413 ]\n",
      "[ 0.99999994  0.99999994  0.6770476   0.9975465  -0.14362061  0.66697\n",
      "  0.51475555  0.9473093  -0.14362061  0.90186995  0.9975465   0.90186995\n",
      "  0.95805913  0.9970617  -0.00698908  0.454712   -0.23704568  0.95805913\n",
      "  0.94140077  0.11258362 -0.28606462  0.90186995  0.99909264 -0.48499975\n",
      " -0.30444464  0.9975465  -0.30758736  0.27319333  0.99973273 -0.14892931\n",
      "  0.37048075  0.00744383  0.958121   -0.11645757 -0.28606462  0.98682153\n",
      "  0.99078596 -0.15094961  0.5598695   0.95805913  0.9979979   0.66697\n",
      "  0.9473093   0.05364635  0.90186995  0.98690635  0.26023355  0.99955946\n",
      "  0.9979979  -0.24025542  0.454712    0.7099968   0.7062675   0.99946016\n",
      " -0.20290369  0.08895794  0.99793845  0.9473093   0.05364635 -0.45160162\n",
      "  0.95805913  0.9494117   0.05364635 -0.23704568  0.5598695   0.99999994\n",
      "  0.9473093   0.97586656  0.9738034   0.7218678   0.37048075 -0.46220893\n",
      "  0.9473093   0.9975465   0.7218678   0.99962145 -0.266455   -0.25033906\n",
      "  0.99955946  0.26327527  0.17160097 -0.30758736 -0.3918545   0.9979979\n",
      "  0.04421494  0.454712    0.9987121   0.90186995 -0.14362061  0.14369872\n",
      "  0.9970617   0.99078596 -0.40440616  0.4707681  -0.00618931  0.98591155\n",
      " -0.0663929   0.6262789   0.99880856  0.99946016  0.07858918 -0.3118472\n",
      " -0.35040534  0.26027486  0.05364635 -0.20290369  0.6770476   0.07858918\n",
      "  0.27319333 -0.23704568  0.99078596  0.27410164  0.97586656 -0.1812669\n",
      " -0.01085758 -0.32992533  0.72547805  0.99078596  0.3800819   0.9979979\n",
      "  0.999807    0.20542908 -0.22398974 -0.45160162  0.97586656  0.99962145\n",
      "  0.3469854   0.34197927  0.90186995  0.31674728  0.98058474  0.34455624\n",
      " -0.29420257  0.9738034   0.9997293   0.90186995 -0.28470945  0.9979979\n",
      "  0.44470716  0.9970617  -0.37697387 -0.14362061  0.77163625 -0.22183347\n",
      "  0.1709348   0.05039703  0.99920833  0.99040246  0.7344041  -0.40440616\n",
      "  0.99999994  0.05364635 -0.00618931 -0.14362061  0.99078596  0.9995997\n",
      "  0.99946016  0.7344041  -0.45160162  0.90186995  0.9473093   0.94140077\n",
      " -0.00698908  0.9970617   0.9961118   0.90186995  0.95047367  0.05364635\n",
      "  0.25979337 -0.59752446  0.9979979  -0.46220893  0.9982371   0.9906256\n",
      "  0.90186995 -0.36047947 -0.28606462  0.98986536  0.51475555  0.454712\n",
      " -0.42927593  0.20542908  0.958121   -0.45160162  0.90186995  0.04832787\n",
      "  0.38849437  0.12423325  0.9975465   0.26460633 -0.24225537  0.9604719\n",
      "  0.4707681  -0.2809879   0.01112287  0.11258362  0.99922454 -0.2021221\n",
      "  0.99946016  0.97586656  0.98591155 -0.5193804   0.9995997   0.9655354\n",
      "  0.9997293  -0.32094035 -0.46220893  0.20542908  0.7062675  -0.3918545\n",
      "  0.9997293   0.99946016  0.00744383  0.99793845  0.90186995 -0.30219826\n",
      " -0.48499975 -0.09086171  0.17185533  0.3469854   0.98690635  0.56304497\n",
      "  0.958121    0.05039703 -0.01023848  0.9987121   0.99909264  0.776077\n",
      " -0.5193804   0.34455624 -0.47290406  0.17242573 -0.11127762  0.99078596\n",
      "  0.9970617   0.9970617   0.34197927 -0.04716765 -0.5943297   0.56304497\n",
      "  0.99962145  0.99239075  0.01112287  0.34197927 -0.17221928  0.9970617\n",
      " -0.46220893  0.99973273  0.90186995  0.9975465  -0.24225537  0.7218678\n",
      "  0.17185533 -0.16525413  0.98058474 -0.01978416  0.9979979  -0.66826814\n",
      "  0.6418357  -0.28875735  0.98986536  0.9558532   0.9494117   0.9997293\n",
      " -0.24025542 -0.22183347  0.99040246  0.9473093   0.6323281   0.3357844\n",
      "  0.3469854   0.90186995  0.90186995  0.34197927 -0.24225537  0.05039703\n",
      "  0.05364635 -0.266455   -0.6095655   0.90186995  0.454712    0.99798995\n",
      "  0.05364635  0.41438338 -0.28287768 -0.3687038   0.99078596 -0.66826814\n",
      "  0.5598695  -0.5193804  -0.35040534 -0.40440616 -0.30219826 -0.47033882\n",
      " -0.3687038  -0.11127762  0.23728123  0.7043723   0.7218678   0.90186995\n",
      "  0.05039703  0.454712    0.9345962   0.37048075 -0.32992533 -0.66826814\n",
      " -0.28470945  0.9835698   0.66697    -0.46220893  0.99880856 -0.40440616\n",
      "  0.25979337 -0.4576151   0.99909264  0.98058474  0.38849437  0.98058474\n",
      "  0.9975465   0.99078596 -0.3687038  -0.28606462  0.6770476   0.99040246\n",
      "  0.9987121   0.04421494  0.90186995  0.9991602  -0.04364426  0.6770476\n",
      "  0.99955946  0.25979337  0.998252    0.958121    0.99880856  0.27410164\n",
      "  0.9623474  -0.66826814  0.454712    0.99962145  0.17185533 -0.32992533\n",
      "  0.1709348   0.9473093  -0.21815184  0.99909264  0.99946773  0.6770476\n",
      "  0.37308776  0.958121    0.7062675   0.26027486  0.97369546  0.11258362\n",
      "  0.9835698  -0.0663929   0.958121   -0.04716765  0.99962145 -0.00698908\n",
      "  0.04832787 -0.14892931 -0.17221928 -0.3687038   0.05039703  0.11258362\n",
      "  0.9604719   0.98986536  0.9975465  -0.23704568  0.17242573 -0.30758736\n",
      "  0.8079583   0.99040246 -0.5193804   0.99889743 -0.32992533  0.9960514\n",
      " -0.46220893 -0.10207267  0.476269    0.9979979   0.41438338  0.26327527\n",
      "  0.99880856 -0.1909492  -0.3918545   0.97586656  0.8079583   0.37048075\n",
      "  0.9975465   0.8079583   0.6770476   0.99955946  0.97586656  0.999807\n",
      "  0.99962145 -0.32992533 -0.22183347  0.99798995 -0.25131744 -0.00618931\n",
      "  0.17160097 -0.2848427   0.98591155 -0.5034763  -0.01085758  0.9975465\n",
      "  0.5598695  -0.5034763   0.41438338  0.9473093  -0.14892931  0.9663685\n",
      "  0.55943775 -0.2021221  -0.22183347 -0.25739926  0.958121   -0.29420257\n",
      "  0.72547805  0.76015407  0.95805913 -0.15833494 -0.4576151   0.99999994\n",
      " -0.6189413  -0.1812669   0.66697     0.9975465  -0.28470945  0.958121\n",
      " -0.11143137 -0.01085758  0.00744383  0.17185533  0.99880856  0.454712\n",
      "  0.31674728 -0.28470945  0.97369546  0.9960514  -0.00618931  0.9473597\n",
      "  0.9610794   0.9473597   0.2744344  -0.4727636   0.97550976 -0.2713534\n",
      "  0.90186995  0.6960836   0.99216646  0.99963087 -0.26612145 -0.3073383\n",
      "  0.9920204   0.9355507   0.90186995  0.9913655   0.96325445  0.994441\n",
      "  0.943924    0.23048241  0.90186995 -0.01936235  0.9977593   0.99963087\n",
      "  0.97317296  0.90186995 -0.4992792  -0.41772693  0.9473597   0.90186995\n",
      "  0.98510844  0.96325445  0.9937506  -0.49259037  0.46440127 -0.19798301\n",
      "  0.5157354  -0.23415774 -0.19598967  0.96906877  0.9814685   0.90186995\n",
      " -0.03009915  0.04006986  0.9803997   0.9814685   0.90186995  0.97317296\n",
      " -0.02575334  0.99216646  0.99055517  0.6447165   0.90186995 -0.3994433\n",
      "  0.997487    0.9976109  -0.01167786  0.99949425  0.9913655  -0.47331393\n",
      " -0.11822509 -0.41048357  0.2744344   0.998612    0.99963087  0.9646058\n",
      "  0.90186995  0.97317296  0.90186995  0.9886816  -0.19798301  0.9977857\n",
      "  0.42957944  0.99312824  0.9610794   0.90186995 -0.38283888  0.99055517\n",
      " -0.19798301  0.32549122  0.90186995  0.90186995  0.9985594  -0.7556323\n",
      "  0.9826593   0.16659358 -0.44291568 -0.07815689  0.998612    0.90186995\n",
      "  0.03290632  0.9610794  -0.32467228 -0.44184422  0.9196859  -0.3116509\n",
      "  0.994441    0.96040344 -0.01936235  0.90186995  0.10682163  0.31163636\n",
      "  0.2744344  -0.01936235  0.90186995  0.7352003   0.33749852  0.33749852\n",
      " -0.5226038  -0.09363107  0.9603798   0.46440127 -0.3036477  -0.6332884\n",
      "  0.99312824  0.59515005  0.99055517  0.998612    0.9920204   0.46440127\n",
      "  0.9886816   0.98706746  0.03290632  0.9940761  -0.52793926  0.994441\n",
      " -0.4727636   0.04006986  0.9945459   0.9937506   0.9940761   0.9977593\n",
      " -0.23415774  0.98510844 -0.41772693  0.31163636 -0.38672212  0.96906877\n",
      "  0.9652222   0.90186995 -0.28443676  0.96906877  0.97889537  0.943924\n",
      "  0.10682163  0.5157354   0.96325445 -0.1627408   0.05823247  0.943924\n",
      "  0.6960836   0.994441    0.96325445 -0.00657408  0.95805913 -0.52793926\n",
      " -0.22652404  0.59515005  0.9937506   0.998612    0.999212    0.99312824\n",
      " -0.1627408  -0.29130292  0.4878065   0.2789552  -0.3036477   0.98297673\n",
      "  0.9973247   0.59515005 -0.3036477   0.2744344   0.99949425 -0.01167786\n",
      "  0.09911233  0.9945459   0.32549122 -0.2713534   0.9886816   0.6960836\n",
      "  0.28236845 -0.53134394  0.994441    0.59515005  0.97317296  0.9603798\n",
      " -0.29130292  0.44805402 -0.3073383   0.61451566 -0.3036477   0.59515005\n",
      "  0.9993475   0.90186995  0.42957944 -0.38672212  0.9473597   0.97550976\n",
      " -0.3127275  -0.23415774  0.97317296  0.9473597   0.99216646  0.9810817\n",
      "  0.9565128   0.07467134 -0.1627408   0.90186995  0.04006986  0.90186995\n",
      " -0.41772693  0.994441    0.10682163 -0.41037828 -0.3332948  -0.40860796\n",
      "  0.9977857   0.98510844  0.90186995  0.90186995  0.9937506   0.9945459\n",
      "  0.5165549   0.9940761   0.99306095 -0.3116509   0.9977593   0.9603798\n",
      "  0.9908187   0.9908187  -0.28755867  0.9937506   0.9565128  -0.47331393\n",
      "  0.9646058   0.96325445 -0.4464846  -0.33834317  0.9444806   0.9610794\n",
      "  0.96906877 -0.3563514   0.9814685   0.39139667 -0.6726628   0.90186995\n",
      " -0.01936235  0.90186995  0.8678297  -0.1627408   0.98705405 -0.35647842\n",
      "  0.09911233  0.9977593   0.999212   -0.4727636   0.5165549   0.98510844\n",
      "  0.90186995  0.9646058   0.07467134 -0.13516681 -0.1627408   0.9646058\n",
      "  0.9986561   0.96371937  0.39139667  0.03290632  0.97701323 -0.44291568\n",
      " -0.38672212  0.99055517 -0.3116509   0.96371937 -0.38672212 -0.41772693\n",
      " -0.11267097  0.9920204  -0.26612145  0.04471461  0.9826593   0.96903294\n",
      "  0.44805402  0.97647107  0.96903294  0.99742794  0.99312824  0.39139667\n",
      "  0.90186995  0.90186995  0.994441   -0.53134394 -0.4992792   0.99216646\n",
      " -0.28443676  0.9993475   0.96325445  0.0102927   0.99312824  0.18372156\n",
      "  0.73179936  0.0102927   0.9977593   0.4872446  -0.19798301  0.58081657\n",
      "  0.97317296 -0.47331393 -0.305253   -0.6083683   0.9473597   0.10682163\n",
      "  0.2789552   0.90186995  0.9814685   0.5220327   0.90186995  0.17589463\n",
      "  0.31163636  0.5157354   0.42957944 -0.5180361   0.97701323  0.9886816\n",
      " -0.3036477   0.5157354   0.6960836   0.90186995 -0.65163565  0.90186995\n",
      "  0.9865447  -0.3116509   0.9473597  -0.10642668  0.90186995  0.59515005\n",
      "  0.39139667  0.10682163  0.991612    0.99312824  0.90186995 -0.52793926\n",
      " -0.23415774  0.9977857   0.44805402 -0.1627408   0.98510844 -0.44683746\n",
      "  0.96906877 -0.1627408   0.13969913  0.9803997   0.03290632  0.9473597\n",
      " -0.01936235  0.9646058   0.999807   -0.12974373  0.9603798   0.47515514\n",
      "  0.9610794  -0.4727636  -0.52793926  0.9937506  -0.3036477   0.99055517\n",
      "  0.9473597   0.998612    0.10682163  0.997487    0.6960836   0.99949425\n",
      "  0.9652222   0.0102927   0.98669213  0.9603798  -0.19798301 -0.47331393\n",
      "  0.97317296 -0.1627408  -0.38672212 -0.22652404  0.68102455  0.943924\n",
      " -0.28443676  0.999212    0.9652222   0.96371937  0.90186995  0.90186995\n",
      "  0.98706746  0.991612    0.90186995 -0.23415774 -0.19798301  0.98669213\n",
      " -0.19798301  0.99055517  0.9937506   0.9961966   0.9814685   0.9603798\n",
      " -0.03009915  0.9646058  -0.28443676  0.98297673  0.58081657 -0.41772693\n",
      " -0.6332884   0.58081657  0.9473597  -0.01936235  0.9984105   0.96371937\n",
      " -0.19798301  0.0797279   0.9473597  -0.5226038  -0.07815689 -0.33002758\n",
      "  0.943924   -0.13516681  0.9803997   0.99949425  0.999212    0.97889537\n",
      "  0.27412394 -0.01936235 -0.25548127  0.98297673  0.98669213  0.29732987\n",
      "  0.59515005  0.9981885   0.9652222  -0.2504357   0.9993475  -0.35647842\n",
      "  0.18372156  0.9986561   0.96325445  0.42957944  0.90186995  0.90186995\n",
      "  0.36118516]\n"
     ]
    }
   ],
   "source": [
    "W_full = 1*W_best\n",
    "\n",
    "print('Max diagonal value: ', np.amax(np.diag(W_full)))\n",
    "# print('Diagonal values: ', np.diag(W_full))\n",
    "print('Mean W: ', np.mean(W_full), 'SD of W: ', np.std(W_full))\n",
    "print('Deviation from mean: ', W_full - np.mean(W_full))\n",
    "print(W_full[1, overlap_idx[:,0]])\n",
    "\n",
    "print(W_full[1])"
   ]
  },
  {
   "cell_type": "code",
   "execution_count": 270,
   "metadata": {},
   "outputs": [
    {
     "name": "stdout",
     "output_type": "stream",
     "text": [
      "[  0   1  44  52  65 150 208 350 425 426 529 672 673 870]\n",
      "[-5.95546448e-08 -5.95546448e-08  6.77047610e-01  9.97546494e-01\n",
      " -1.43620610e-01  6.66970015e-01  5.14755547e-01  9.47309315e-01\n",
      " -1.43620610e-01  9.01869953e-01  9.97546494e-01  9.01869953e-01\n",
      "  9.58059132e-01  9.97061729e-01 -6.98907580e-03  4.54712003e-01\n",
      " -2.37045676e-01  9.58059132e-01  9.41400766e-01  1.12583622e-01\n",
      " -2.86064625e-01  9.01869953e-01  9.99092638e-01 -4.84999746e-01\n",
      " -3.04444641e-01  9.97546494e-01 -3.07587355e-01  2.73193330e-01\n",
      "  9.99732733e-01 -1.48929313e-01  3.70480746e-01  7.44383177e-03\n",
      "  9.58121002e-01 -1.16457574e-01 -2.86064625e-01  9.86821532e-01\n",
      "  9.90785956e-01 -1.50949612e-01  5.59869528e-01  9.58059132e-01\n",
      "  9.97997880e-01  6.66970015e-01  9.47309315e-01  5.36463521e-02\n",
      "  9.01869953e-01  9.86906350e-01  2.60233551e-01  9.99559462e-01\n",
      "  9.97997880e-01 -2.40255415e-01  4.54712003e-01  7.09996819e-01\n",
      "  1.03960081e+00  9.99460161e-01 -2.02903688e-01  8.89579430e-02\n",
      "  9.97938454e-01  9.47309315e-01  5.36463521e-02 -4.51601624e-01\n",
      "  9.58059132e-01  9.49411690e-01  5.36463521e-02 -2.37045676e-01\n",
      "  5.59869528e-01 -5.95546448e-08  9.47309315e-01  9.75866556e-01\n",
      "  9.73803401e-01  7.21867800e-01  3.70480746e-01 -4.62208927e-01\n",
      "  9.47309315e-01  9.97546494e-01  7.21867800e-01  9.99621451e-01\n",
      " -2.66454995e-01 -2.50339061e-01  9.99559462e-01  2.63275266e-01\n",
      "  1.71600968e-01 -3.07587355e-01 -3.91854495e-01  9.97997880e-01\n",
      "  4.42149416e-02  4.54712003e-01  9.98712122e-01  9.01869953e-01\n",
      " -1.43620610e-01  1.43698722e-01  9.97061729e-01  9.90785956e-01\n",
      " -4.04406160e-01  4.70768094e-01 -6.18930580e-03  9.85911548e-01\n",
      " -6.63928986e-02  6.26278877e-01  9.98808563e-01  9.99460161e-01\n",
      "  7.85891786e-02 -3.11847210e-01 -3.50405335e-01  2.60274857e-01\n",
      "  5.36463521e-02 -2.02903688e-01  6.77047610e-01  7.85891786e-02\n",
      "  2.73193330e-01 -2.37045676e-01  9.90785956e-01  2.74101645e-01\n",
      "  9.75866556e-01 -1.81266904e-01 -1.08575812e-02 -3.29925328e-01\n",
      "  7.25478053e-01  9.90785956e-01  3.80081892e-01  9.97997880e-01\n",
      "  9.99807000e-01  2.05429077e-01 -2.23989740e-01 -4.51601624e-01\n",
      "  9.75866556e-01  9.99621451e-01  3.46985400e-01  3.41979265e-01\n",
      "  9.01869953e-01  3.16747278e-01  9.80584741e-01  3.44556242e-01\n",
      " -2.94202566e-01  9.73803401e-01  9.99729276e-01  9.01869953e-01\n",
      " -2.84709454e-01  9.97997880e-01  4.44707155e-01  9.97061729e-01\n",
      " -3.76973867e-01 -1.43620610e-01  7.71636248e-01 -2.21833467e-01\n",
      "  1.70934796e-01  5.03970273e-02  9.99208331e-01  9.90402460e-01\n",
      "  7.34404087e-01 -4.04406160e-01 -5.95546448e-08  5.36463521e-02\n",
      " -6.18930580e-03 -1.43620610e-01  9.90785956e-01  9.99599695e-01\n",
      "  9.99460161e-01  7.34404087e-01 -4.51601624e-01  9.01869953e-01\n",
      "  9.47309315e-01  9.41400766e-01 -6.98907580e-03  9.97061729e-01\n",
      "  9.96111810e-01  9.01869953e-01  9.50473666e-01  5.36463521e-02\n",
      "  2.59793371e-01 -5.97524464e-01  9.97997880e-01 -4.62208927e-01\n",
      "  9.98237073e-01  9.90625620e-01  9.01869953e-01 -3.60479474e-01\n",
      " -2.86064625e-01  9.89865363e-01  5.14755547e-01  4.54712003e-01\n",
      " -4.29275930e-01  2.05429077e-01  9.58121002e-01 -4.51601624e-01\n",
      "  9.01869953e-01  4.83278669e-02  3.88494372e-01  1.24233253e-01\n",
      "  9.97546494e-01  2.64606327e-01 -2.42255375e-01  9.60471928e-01\n",
      "  4.70768094e-01 -2.80987889e-01  1.11228656e-02  1.12583622e-01\n",
      "  9.99224544e-01 -2.02122107e-01  9.99460161e-01  9.75866556e-01\n",
      "  9.85911548e-01 -5.19380391e-01  9.99599695e-01  9.65535402e-01\n",
      "  9.99729276e-01 -3.20940346e-01 -4.62208927e-01  2.05429077e-01\n",
      "  1.03960081e+00 -3.91854495e-01  9.99729276e-01  9.99460161e-01\n",
      "  7.44383177e-03  9.97938454e-01  9.01869953e-01 -3.02198261e-01\n",
      " -4.84999746e-01 -9.08617079e-02  1.71855330e-01  3.46985400e-01\n",
      "  9.86906350e-01  5.63044965e-01  9.58121002e-01  5.03970273e-02\n",
      " -1.02384798e-02  9.98712122e-01  9.99092638e-01  7.76076972e-01\n",
      " -5.19380391e-01  3.44556242e-01 -4.72904056e-01  1.72425732e-01\n",
      " -1.11277618e-01  9.90785956e-01  9.97061729e-01  9.97061729e-01\n",
      "  3.41979265e-01 -4.71676476e-02 -5.94329715e-01  5.63044965e-01\n",
      "  9.99621451e-01  9.92390752e-01  1.11228656e-02  3.41979265e-01\n",
      " -1.72219276e-01  9.97061729e-01 -4.62208927e-01  9.99732733e-01\n",
      "  9.01869953e-01  9.97546494e-01 -2.42255375e-01  7.21867800e-01\n",
      "  1.71855330e-01 -1.65254131e-01  9.80584741e-01 -1.97841562e-02\n",
      "  9.97997880e-01 -6.68268144e-01  6.41835690e-01 -2.88757354e-01\n",
      "  9.89865363e-01  9.55853224e-01  9.49411690e-01  9.99729276e-01\n",
      " -2.40255415e-01 -2.21833467e-01  9.90402460e-01  9.47309315e-01\n",
      "  6.32328093e-01  3.35784405e-01  3.46985400e-01  9.01869953e-01\n",
      "  9.01869953e-01  3.41979265e-01 -2.42255375e-01  5.03970273e-02\n",
      "  5.36463521e-02 -2.66454995e-01 -6.09565496e-01  9.01869953e-01\n",
      "  4.54712003e-01  9.97989953e-01  5.36463521e-02  4.14383382e-01\n",
      " -2.82877684e-01 -3.68703812e-01  9.90785956e-01 -6.68268144e-01\n",
      "  5.59869528e-01 -5.19380391e-01 -3.50405335e-01 -4.04406160e-01\n",
      " -3.02198261e-01 -4.70338821e-01 -3.68703812e-01 -1.11277618e-01\n",
      "  2.37281233e-01  7.04372287e-01  7.21867800e-01  9.01869953e-01\n",
      "  5.03970273e-02  4.54712003e-01  9.34596181e-01  3.70480746e-01\n",
      " -3.29925328e-01 -6.68268144e-01 -2.84709454e-01  9.83569801e-01\n",
      "  6.66970015e-01 -4.62208927e-01  9.98808563e-01 -4.04406160e-01\n",
      "  2.59793371e-01 -4.57615107e-01  9.99092638e-01  9.80584741e-01\n",
      "  3.88494372e-01  9.80584741e-01  9.97546494e-01  9.90785956e-01\n",
      " -3.68703812e-01 -2.86064625e-01  6.77047610e-01  9.90402460e-01\n",
      "  9.98712122e-01  4.42149416e-02  9.01869953e-01  9.99160171e-01\n",
      " -4.36442569e-02  6.77047610e-01  9.99559462e-01  2.59793371e-01\n",
      "  9.98251975e-01  9.58121002e-01  9.98808563e-01  2.74101645e-01\n",
      "  9.62347388e-01 -6.68268144e-01  4.54712003e-01  9.99621451e-01\n",
      "  1.71855330e-01 -3.29925328e-01  1.70934796e-01  9.47309315e-01\n",
      " -2.18151838e-01  9.99092638e-01  9.99467731e-01  6.77047610e-01\n",
      "  3.73087764e-01  9.58121002e-01  1.03960081e+00  2.60274857e-01\n",
      "  9.73695457e-01  1.12583622e-01  9.83569801e-01 -6.63928986e-02\n",
      "  9.58121002e-01 -4.71676476e-02  9.99621451e-01 -6.98907580e-03\n",
      "  4.83278669e-02 -1.48929313e-01 -1.72219276e-01 -3.68703812e-01\n",
      "  5.03970273e-02  1.12583622e-01  9.60471928e-01  9.89865363e-01\n",
      "  9.97546494e-01 -2.37045676e-01  1.72425732e-01 -3.07587355e-01\n",
      "  8.07958305e-01  9.90402460e-01 -5.19380391e-01  9.98897433e-01\n",
      " -3.29925328e-01  9.96051371e-01 -4.62208927e-01 -1.02072671e-01\n",
      "  4.76269007e-01  9.97997880e-01  4.14383382e-01  2.63275266e-01\n",
      "  9.98808563e-01 -1.90949202e-01 -3.91854495e-01  9.75866556e-01\n",
      "  8.07958305e-01  3.70480746e-01  9.97546494e-01  8.07958305e-01\n",
      "  6.77047610e-01  9.99559462e-01  9.75866556e-01  9.99807000e-01\n",
      "  9.99621451e-01 -3.29925328e-01 -2.21833467e-01  9.97989953e-01\n",
      " -2.51317441e-01 -6.18930580e-03  1.71600968e-01 -2.84842700e-01\n",
      "  9.85911548e-01 -5.03476322e-01 -1.08575812e-02  9.97546494e-01\n",
      "  5.59869528e-01 -5.03476322e-01  4.14383382e-01  9.47309315e-01\n",
      " -1.48929313e-01  9.66368496e-01  5.59437752e-01 -2.02122107e-01\n",
      " -2.21833467e-01 -2.57399261e-01  9.58121002e-01 -2.94202566e-01\n",
      "  7.25478053e-01  7.60154068e-01  9.58059132e-01 -1.58334941e-01\n",
      " -4.57615107e-01 -5.95546448e-08 -1.89413071e-02 -1.81266904e-01\n",
      "  6.66970015e-01  9.97546494e-01 -2.84709454e-01  9.58121002e-01\n",
      " -1.11431368e-01 -1.08575812e-02  7.44383177e-03  1.71855330e-01\n",
      "  9.98808563e-01  4.54712003e-01  3.16747278e-01 -2.84709454e-01\n",
      "  9.73695457e-01  9.96051371e-01 -6.18930580e-03  9.47359681e-01\n",
      "  9.61079419e-01  9.47359681e-01  2.74434388e-01 -4.72763598e-01\n",
      "  9.75509763e-01 -2.71353394e-01  9.01869953e-01  6.96083605e-01\n",
      "  9.92166460e-01  9.99630868e-01 -2.66121447e-01 -3.07338297e-01\n",
      "  9.92020428e-01  9.35550690e-01  9.01869953e-01  9.91365492e-01\n",
      "  9.63254452e-01  9.94440973e-01  9.43924010e-01  2.30482414e-01\n",
      "  9.01869953e-01 -1.93623453e-02  9.97759283e-01  9.99630868e-01\n",
      "  9.73172963e-01  9.01869953e-01 -4.99279201e-01 -4.17726934e-01\n",
      "  9.47359681e-01  9.01869953e-01  9.85108435e-01  9.63254452e-01\n",
      "  9.93750572e-01 -4.92590368e-01  4.64401275e-01 -1.97983012e-01\n",
      "  5.15735388e-01 -2.34157741e-01 -1.95989668e-01  9.69068766e-01\n",
      "  9.81468499e-01  9.01869953e-01 -3.00991479e-02  4.00698595e-02\n",
      "  9.80399728e-01  9.81468499e-01  9.01869953e-01  9.73172963e-01\n",
      " -2.57533435e-02  9.92166460e-01  9.90555167e-01  6.44716501e-01\n",
      "  9.01869953e-01 -3.99443299e-01  9.97487009e-01  9.97610927e-01\n",
      " -1.16778649e-02  9.99494255e-01  9.91365492e-01 -4.73313928e-01\n",
      " -1.18225090e-01 -4.10483569e-01  2.74434388e-01  9.98611987e-01\n",
      "  9.99630868e-01  9.64605808e-01  9.01869953e-01  9.73172963e-01\n",
      "  9.01869953e-01  9.88681614e-01 -1.97983012e-01  9.97785687e-01\n",
      "  4.29579437e-01  9.93128240e-01  9.61079419e-01  9.01869953e-01\n",
      " -3.82838875e-01  9.90555167e-01 -1.97983012e-01  3.25491220e-01\n",
      "  9.01869953e-01  9.01869953e-01  9.98559415e-01 -7.55632281e-01\n",
      "  9.82659280e-01  1.16659358e+00 -4.42915678e-01 -7.81568885e-02\n",
      "  9.98611987e-01  9.01869953e-01  3.29063162e-02  9.61079419e-01\n",
      " -3.24672282e-01 -4.41844225e-01  9.19685900e-01 -3.11650902e-01\n",
      "  9.94440973e-01  9.60403442e-01 -1.93623453e-02  9.01869953e-01\n",
      "  1.06821634e-01  3.11636358e-01  2.74434388e-01 -1.93623453e-02\n",
      "  9.01869953e-01  7.35200286e-01  3.37498516e-01  3.37498516e-01\n",
      " -5.22603810e-01 -9.36310664e-02  9.60379779e-01  4.64401275e-01\n",
      " -3.03647697e-01 -6.33288383e-01  9.93128240e-01  5.95150054e-01\n",
      "  9.90555167e-01  9.98611987e-01  9.92020428e-01  4.64401275e-01\n",
      "  9.88681614e-01  9.87067461e-01  3.29063162e-02  9.94076073e-01\n",
      " -5.27939260e-01  9.94440973e-01 -4.72763598e-01  4.00698595e-02\n",
      "  9.94545877e-01  9.93750572e-01  9.94076073e-01  9.97759283e-01\n",
      " -2.34157741e-01  9.85108435e-01 -4.17726934e-01  3.11636358e-01\n",
      " -3.86722118e-01  9.69068766e-01  9.65222180e-01  9.01869953e-01\n",
      " -2.84436762e-01  9.69068766e-01  9.78895366e-01  9.43924010e-01\n",
      "  1.06821634e-01  5.15735388e-01  9.63254452e-01 -1.62740797e-01\n",
      "  5.82324676e-02  9.43924010e-01  6.96083605e-01  9.94440973e-01\n",
      "  9.63254452e-01 -6.57408312e-03  9.58059132e-01 -5.27939260e-01\n",
      " -2.26524040e-01  5.95150054e-01  9.93750572e-01  9.98611987e-01\n",
      "  9.99212027e-01  9.93128240e-01 -1.62740797e-01 -2.91302919e-01\n",
      "  4.87806499e-01  2.78955191e-01 -3.03647697e-01  9.82976735e-01\n",
      "  9.97324705e-01  5.95150054e-01 -3.03647697e-01  2.74434388e-01\n",
      "  9.99494255e-01 -1.16778649e-02  9.91123319e-02  9.94545877e-01\n",
      "  3.25491220e-01 -2.71353394e-01  9.88681614e-01  6.96083605e-01\n",
      "  2.82368451e-01 -5.31343937e-01  9.94440973e-01  5.95150054e-01\n",
      "  9.73172963e-01  9.60379779e-01 -2.91302919e-01  4.48054016e-01\n",
      " -3.07338297e-01  6.14515662e-01 -3.03647697e-01  5.95150054e-01\n",
      "  9.99347508e-01  9.01869953e-01  4.29579437e-01 -3.86722118e-01\n",
      "  9.47359681e-01  9.75509763e-01 -3.12727511e-01 -2.34157741e-01\n",
      "  9.73172963e-01  9.47359681e-01  9.92166460e-01  9.81081724e-01\n",
      "  9.56512809e-01  7.46713355e-02 -1.62740797e-01  9.01869953e-01\n",
      "  4.00698595e-02  9.01869953e-01 -4.17726934e-01  9.94440973e-01\n",
      "  1.06821634e-01 -4.10378277e-01 -3.33294809e-01 -4.08607960e-01\n",
      "  9.97785687e-01  9.85108435e-01  9.01869953e-01  9.01869953e-01\n",
      "  9.93750572e-01  9.94545877e-01  5.16554892e-01  9.94076073e-01\n",
      "  9.93060946e-01 -3.11650902e-01  9.97759283e-01  9.60379779e-01\n",
      "  1.99081868e+00  1.99081868e+00 -2.87558675e-01  9.93750572e-01\n",
      "  9.56512809e-01 -4.73313928e-01  9.64605808e-01  9.63254452e-01\n",
      " -4.46484596e-01 -3.38343173e-01  9.44480598e-01  9.61079419e-01\n",
      "  9.69068766e-01 -3.56351405e-01  9.81468499e-01  3.91396672e-01\n",
      " -6.72662795e-01  9.01869953e-01 -1.93623453e-02  9.01869953e-01\n",
      "  8.67829680e-01 -1.62740797e-01  9.87054050e-01 -3.56478423e-01\n",
      "  9.91123319e-02  9.97759283e-01  9.99212027e-01 -4.72763598e-01\n",
      "  5.16554892e-01  9.85108435e-01  9.01869953e-01  9.64605808e-01\n",
      "  7.46713355e-02 -1.35166809e-01 -1.62740797e-01  9.64605808e-01\n",
      "  9.98656094e-01  9.63719368e-01  3.91396672e-01  3.29063162e-02\n",
      "  9.77013230e-01 -4.42915678e-01 -3.86722118e-01  9.90555167e-01\n",
      " -3.11650902e-01  9.63719368e-01 -3.86722118e-01 -4.17726934e-01\n",
      " -1.12670965e-01  9.92020428e-01 -2.66121447e-01  4.47146073e-02\n",
      "  9.82659280e-01  9.69032943e-01  4.48054016e-01  9.76471066e-01\n",
      "  9.69032943e-01  9.97427940e-01  9.93128240e-01  3.91396672e-01\n",
      "  9.01869953e-01  9.01869953e-01  9.94440973e-01 -5.31343937e-01\n",
      " -4.99279201e-01  9.92166460e-01 -2.84436762e-01  9.99347508e-01\n",
      "  9.63254452e-01  1.02927024e-02  9.93128240e-01  1.83721557e-01\n",
      "  7.31799364e-01  1.02927024e-02  9.97759283e-01  4.87244606e-01\n",
      " -1.97983012e-01  5.80816567e-01  9.73172963e-01 -4.73313928e-01\n",
      " -3.05252999e-01 -6.08368278e-01  9.47359681e-01  1.06821634e-01\n",
      "  2.78955191e-01  9.01869953e-01  9.81468499e-01  5.22032678e-01\n",
      "  9.01869953e-01  1.75894633e-01  3.11636358e-01  5.15735388e-01\n",
      "  4.29579437e-01 -5.18036127e-01  9.77013230e-01  9.88681614e-01\n",
      " -3.03647697e-01  5.15735388e-01  6.96083605e-01  9.01869953e-01\n",
      " -6.51635647e-01  9.01869953e-01  9.86544728e-01 -3.11650902e-01\n",
      "  9.47359681e-01 -1.06426679e-01  9.01869953e-01  5.95150054e-01\n",
      "  3.91396672e-01  1.06821634e-01  9.91612017e-01  9.93128240e-01\n",
      "  9.01869953e-01 -5.27939260e-01 -2.34157741e-01  9.97785687e-01\n",
      "  4.48054016e-01 -1.62740797e-01  9.85108435e-01 -4.46837455e-01\n",
      "  9.69068766e-01 -1.62740797e-01  1.39699131e-01  9.80399728e-01\n",
      "  3.29063162e-02  9.47359681e-01 -1.93623453e-02  9.64605808e-01\n",
      "  9.99807000e-01 -1.29743725e-01  9.60379779e-01  4.75155145e-01\n",
      "  9.61079419e-01 -4.72763598e-01 -5.27939260e-01  9.93750572e-01\n",
      " -3.03647697e-01  9.90555167e-01  9.47359681e-01  9.98611987e-01\n",
      "  1.06821634e-01  9.97487009e-01  6.96083605e-01  9.99494255e-01\n",
      "  9.65222180e-01  1.02927024e-02  9.86692131e-01  9.60379779e-01\n",
      " -1.97983012e-01 -4.73313928e-01  9.73172963e-01 -1.62740797e-01\n",
      " -3.86722118e-01 -2.26524040e-01  6.81024551e-01  9.43924010e-01\n",
      " -2.84436762e-01  9.99212027e-01  9.65222180e-01  9.63719368e-01\n",
      "  9.01869953e-01  9.01869953e-01  9.87067461e-01  9.91612017e-01\n",
      "  9.01869953e-01 -2.34157741e-01 -1.97983012e-01  9.86692131e-01\n",
      " -1.97983012e-01  9.90555167e-01  9.93750572e-01  9.96196628e-01\n",
      "  9.81468499e-01  9.60379779e-01 -3.00991479e-02  9.64605808e-01\n",
      " -2.84436762e-01  9.82976735e-01  5.80816567e-01 -4.17726934e-01\n",
      " -6.33288383e-01  5.80816567e-01  9.47359681e-01 -1.93623453e-02\n",
      "  9.98410523e-01  9.63719368e-01 -1.97983012e-01  7.97278956e-02\n",
      "  9.47359681e-01 -5.22603810e-01 -7.81568885e-02 -3.30027580e-01\n",
      "  9.43924010e-01 -1.35166809e-01  9.80399728e-01  9.99494255e-01\n",
      "  9.99212027e-01  9.78895366e-01  1.27412394e+00 -1.93623453e-02\n",
      " -2.55481273e-01  9.82976735e-01  9.86692131e-01  2.97329873e-01\n",
      "  5.95150054e-01  9.98188496e-01  9.65222180e-01 -2.50435710e-01\n",
      "  9.99347508e-01 -3.56478423e-01  1.83721557e-01  9.98656094e-01\n",
      "  9.63254452e-01  4.29579437e-01  9.01869953e-01  9.01869953e-01\n",
      "  3.61185163e-01]\n",
      "[-5.95546448e-08 -5.95546448e-08  9.01869953e-01  1.03960081e+00\n",
      " -5.95546448e-08 -5.95546448e-08  1.03960081e+00  1.03960081e+00\n",
      " -5.95546448e-08 -1.89413071e-02  1.16659358e+00  1.99081868e+00\n",
      "  1.99081868e+00  1.27412394e+00]\n"
     ]
    }
   ],
   "source": [
    "print(torch.nonzero(W_mask[0]).numpy().flatten())\n",
    "print((W_full - W_sup.numpy())[0])\n",
    "print((W_full - W_sup.numpy())[0, torch.nonzero(W_mask[0]).numpy().flatten()])"
   ]
  },
  {
   "cell_type": "code",
   "execution_count": 218,
   "metadata": {},
   "outputs": [
    {
     "name": "stdout",
     "output_type": "stream",
     "text": [
      "Fraction of reads assigned to hap1:  0.5770528683914511\n"
     ]
    }
   ],
   "source": [
    "print('Fraction of reads assigned to hap1: ', np.sum(hap_origin_best == 1)/len(hap_origin_best))"
   ]
  },
  {
   "cell_type": "code",
   "execution_count": 172,
   "metadata": {},
   "outputs": [
    {
     "name": "stdout",
     "output_type": "stream",
     "text": [
      "[[0.99999994 0.99999994 0.9999997  ... 0.99999994 0.99999994 1.        ]\n",
      " [0.99999994 0.99999994 0.9999997  ... 0.99999994 0.99999994 1.        ]\n",
      " [0.9999997  0.9999997  1.0000001  ... 0.9999998  0.9999998  0.99999994]\n",
      " ...\n",
      " [0.99999994 0.99999994 0.9999998  ... 1.0000001  1.0000001  1.0000001 ]\n",
      " [0.99999994 0.99999994 0.9999998  ... 1.0000001  1.0000001  1.0000001 ]\n",
      " [1.         1.         0.99999994 ... 1.0000001  1.0000001  1.        ]]\n",
      "Mean W:  0.9999998 SD of W:  1.5946725e-06\n"
     ]
    }
   ],
   "source": [
    "W_end = readW(SNVdata, embedAE, corr_xformer)\n",
    "print(W_end)\n",
    "print('Mean W: ', np.mean(W_end), 'SD of W: ', np.std(W_end))"
   ]
  },
  {
   "cell_type": "markdown",
   "metadata": {},
   "source": [
    "### CAECSeq"
   ]
  },
  {
   "cell_type": "code",
   "execution_count": null,
   "metadata": {},
   "outputs": [],
   "source": [
    "SNV_matrix = np.loadtxt(datapath, dtype=int)\n",
    "caec_hap_file = 'generate_data/' + outhead + '/' + outhead + '_Reconstructed_Strains.txt'\n",
    "\n",
    "caec_haplo = read_hap(caec_hap_file)\n",
    "cpr_caec = compute_cpr(caec_haplo, true_haplo)\n",
    "\n",
    "print('CPR for CAECSeq: ', cpr_caec)\n",
    "print('MEC score for CAECSeq: ', MEC(SNV_matrix, caec_haplo))\n",
    "print('MEC score for CAECSeq: ', MEC(SNV_matrix[np.sum(SNV_matrix!=0, axis=1) > 1], caec_haplo))"
   ]
  },
  {
   "cell_type": "markdown",
   "metadata": {},
   "source": [
    "### SDHap"
   ]
  },
  {
   "cell_type": "code",
   "execution_count": 45,
   "metadata": {},
   "outputs": [
    {
     "name": "stdout",
     "output_type": "stream",
     "text": [
      "Number of SNP positions:  163\n",
      "[[0, 1, 2, 3, 4, 5, 6, 7, 8, 9, 10, 11, 12, 13, 14, 15, 16, 17, 18, 19, 20, 21, 22, 23, 24, 25, 26, 27, 28, 29, 30, 31, 32, 33, 34, 35, 36, 37, 38, 39, 40, 41, 42, 43, 44, 45, 46, 47, 48, 49, 50, 51, 52, 53, 54, 55, 56, 57, 58, 59, 60, 61, 62, 63, 64, 65, 66, 67, 68, 69, 70, 71, 72, 73, 74, 75, 76, 77, 78, 79, 80, 81, 82, 83, 84, 85, 86, 87, 88, 89, 90, 91, 92, 93, 94, 95, 96, 97, 98, 99, 100, 101, 102, 103, 104, 105, 106, 107, 108, 109, 110, 111, 112, 113, 114, 115, 116, 117, 118, 119, 120, 121, 122, 123, 124, 125, 126, 127, 128, 129, 130, 131, 132, 133, 134, 135, 136, 137, 138, 139, 140, 141, 142, 143, 144, 145, 146, 147, 148, 149, 150, 151, 152, 153, 154, 155, 156, 157, 158, 159, 160, 161, 162]]\n"
     ]
    }
   ],
   "source": [
    "def hap_blocks(SNV_matrix: NDArray[(Any, Any), int]) -> List[List[int]]:\n",
    "    \"\"\"\n",
    "    Parameters\n",
    "    ----------\n",
    "    SNV_matrix: NDAray[(Any, Any), int]:\n",
    "        2D read-SNP matrix\n",
    "    \n",
    "    Returns\n",
    "    -------\n",
    "    List[List[int]]:\n",
    "        List of haplotype blocks, where each block is represented by a list of SNP positions comprising\n",
    "        that block\n",
    "    \"\"\"\n",
    "\n",
    "from collections import deque\n",
    "# FInding haplotype blocks\n",
    "SNP_idx = np.zeros(np.shape(SNV_matrix)[1], dtype=bool)  # Tracking SNP positions visited in BFS\n",
    "SNP_visited = np.zeros(np.shape(SNV_matrix)[1], dtype=bool)  # Tracking SNP positions in queue\n",
    "print('Number of SNP positions: ', len(SNP_idx))\n",
    "blocks = []\n",
    "while not np.all(SNP_idx):\n",
    "    idx_q = deque([np.flatnonzero(~SNP_idx)[0]])\n",
    "    SNP_visited[np.flatnonzero(~SNP_idx)[0]] = True\n",
    "    block_curr = []\n",
    "    while idx_q:\n",
    "        idx = idx_q.popleft()\n",
    "        block_curr.append(idx)\n",
    "        SNP_idx[idx] = True\n",
    "#         print('Covered index: ', idx)\n",
    "        connected_reads = np.flatnonzero(np.sum(SNV_matrix, axis=0))\n",
    "        connected_reads = connected_reads[~SNP_visited]  # Only look at thus far unvisted SNPs\n",
    "        idx_q.extend(connected_reads)\n",
    "        SNP_visited[connected_reads] = True\n",
    "\n",
    "    blocks.append(block_curr)\n",
    "print(blocks)"
   ]
  },
  {
   "cell_type": "code",
   "execution_count": 46,
   "metadata": {},
   "outputs": [
    {
     "name": "stdout",
     "output_type": "stream",
     "text": [
      "(889, 163)\n",
      "(array([ 2,  3,  4,  7, 10, 12, 13, 14]), array([596, 250,  37,   1,   1,   1,   2,   1]))\n"
     ]
    },
    {
     "data": {
      "text/plain": [
       "(889, 163)"
      ]
     },
     "execution_count": 46,
     "metadata": {},
     "output_type": "execute_result"
    }
   ],
   "source": [
    "read_i = SNV_matrix[0]\n",
    "read_j = SNV_matrix[0]\n",
    "\n",
    "np.sum((read_i == read_i)[(read_i != 0) & (read_j != 0)])\n",
    "print(SNV_matrix.shape)\n",
    "print(np.unique(np.sum(SNV_matrix!=0, axis=1), return_counts=True))\n",
    "SNV_matrix = SNV_matrix[np.sum(SNV_matrix!=0, axis=1) > 1]\n",
    "SNV_matrix.shape"
   ]
  },
  {
   "cell_type": "code",
   "execution_count": 47,
   "metadata": {},
   "outputs": [
    {
     "name": "stderr",
     "output_type": "stream",
     "text": [
      "100%|████████████████████████████████████████████████████████████████████████████████████████████████████████| 889/889 [00:08<00:00, 109.63it/s]\n"
     ]
    }
   ],
   "source": [
    "# W = squareform(pdist(SNV_matrix, hamming_distance))\n",
    "# m = np.shape(W)[0]\n",
    "\n",
    "num_reads = np.shape(SNV_matrix)[0]\n",
    "W_sim = np.zeros((num_reads, num_reads))\n",
    "W_dissim = np.zeros((num_reads, num_reads))\n",
    "\n",
    "for i, read_i in enumerate(tqdm(SNV_matrix)):\n",
    "    for j, read_j in enumerate(SNV_matrix):\n",
    "        if np.any((read_i != 0) & (read_j != 0)):  # Only if reads overlap\n",
    "            W_sim[i, j] = np.sum((read_i == read_j)[(read_i != 0) | (read_j != 0)])\n",
    "            W_dissim[i, j] = np.sum((read_i != read_j)[(read_i != 0) | (read_j != 0)])"
   ]
  },
  {
   "cell_type": "code",
   "execution_count": 48,
   "metadata": {},
   "outputs": [
    {
     "name": "stdout",
     "output_type": "stream",
     "text": [
      "Fraction of W that is zero:  0.9715976166646211\n"
     ]
    }
   ],
   "source": [
    "W_sdhap = (W_sim - W_dissim)/(W_sim + W_dissim + 1e-10)\n",
    "print('Fraction of W that is zero: ', np.sum(W_sdhap == 0)/np.size(W_sdhap))"
   ]
  },
  {
   "cell_type": "code",
   "execution_count": 49,
   "metadata": {},
   "outputs": [],
   "source": [
    "def sdhap(W_sdhap: NDArray[(Any, Any), float]) -> Tuple[NDArray[int],\n",
    "                                                        NDArray[(Any, Any), int]]:\n",
    "    sval_thr = 1e-1  # eps_th in SDHap\n",
    "    change_thr = 1e-5  # eps_tol in SDHap\n",
    "    m = np.shape(W_sdhap)[0]\n",
    "    V = np.random.randn(m, 2)\n",
    "    V = V/np.linalg.norm(V, axis=1).reshape(m,1)  # Row normalization\n",
    "\n",
    "    col_V = np.shape(V)[1]\n",
    "    rank_V = 1\n",
    "    upd = True  # Set to false when convergence is achieved\n",
    "    obj_curr = np.inf\n",
    "\n",
    "    while upd:\n",
    "        for i in range(m):\n",
    "            V[i] = W_sdhap[i] @ V\n",
    "            V[i] = V[i]/np.linalg.norm(V[i])\n",
    "\n",
    "        rank_V = np.sum(np.linalg.svd(V, compute_uv=False) >= sval_thr)\n",
    "        if(rank_V == col_V):  # V is full column rank\n",
    "            col_V = col_V + 1\n",
    "            rand_col = np.random.rand(m) - 0.5\n",
    "            V = np.append(V, 0.01*rand_col[:,np.newaxis],\n",
    "                          axis=1)\n",
    "            V = V/np.linalg.norm(V, axis=1).reshape(m,1)  # Row normalization\n",
    "\n",
    "        obj_prev = obj_curr\n",
    "        obj_curr = np.trace(W_sdhap @ V @ V.T)\n",
    "\n",
    "        upd = (rank_V != col_V) and (np.abs(1.-obj_curr/obj_prev) >= change_thr)\n",
    "\n",
    "    # Randomized projection\n",
    "    num_rounds = 10*int(np.ceil(np.log2(m)))  # number of rounds\n",
    "    round_x = np.zeros((m, num_rounds), dtype=np.float32)  # x for each round\n",
    "    round_obj = np.zeros(num_rounds)  # ojective for each round\n",
    "    for i in range(num_rounds):\n",
    "        unit_vec = np.random.randn(col_V)\n",
    "    #         unit_vec = unit_vec/np.linalg.norm(unit_vec)\n",
    "    #     print(i, unit_vec, np.sum(V @ unit_vec > 0))\n",
    "        x = -1*np.ones(m, dtype=np.float32)\n",
    "        x[np.where(V @ unit_vec > 0)] = 1\n",
    "\n",
    "        round_x[:, i] = x\n",
    "        round_obj[i] = np.dot(x, W_sdhap @ x)\n",
    "\n",
    "    hap_origin_sdhap = round_x[:, np.argmax(round_obj)]\n",
    "    hap_matrix_sdhap = origin2hap(SNV_matrix, (hap_origin_sdhap.astype(int) + 1)/2) \n",
    "    \n",
    "    return hap_origin_sdhap, hap_matrix_sdhap"
   ]
  },
  {
   "cell_type": "code",
   "execution_count": 50,
   "metadata": {},
   "outputs": [
    {
     "name": "stderr",
     "output_type": "stream",
     "text": [
      "100%|█████████████████████████████████████████████████████████████████████████████████████████████████████████| 100/100 [02:08<00:00,  1.29s/it]\n"
     ]
    }
   ],
   "source": [
    "num_runs_sdhap = 100\n",
    "cpr_arr_sdhap = np.zeros(num_runs_sdhap)\n",
    "mec_arr_sdhap = np.zeros(num_runs_sdhap)\n",
    "\n",
    "for i in tqdm(range(num_runs_sdhap)):\n",
    "    hap_origin_sdhap, hap_matrix_sdhap = sdhap(W_sdhap)\n",
    "    mec_arr_sdhap[i] = MEC(SNV_matrix, hap_matrix_sdhap)\n",
    "    cpr_arr_sdhap[i] = compute_cpr(hap_matrix_sdhap, true_haplo)"
   ]
  },
  {
   "cell_type": "code",
   "execution_count": 51,
   "metadata": {},
   "outputs": [
    {
     "name": "stdout",
     "output_type": "stream",
     "text": [
      "[(48.0, 0.5858895705521472), (50.0, 0.6809815950920246), (52.0, 0.705521472392638)]\n"
     ]
    },
    {
     "data": {
      "image/png": "[encoded data removed]",
      "text/plain": [
       "<Figure size 432x288 with 1 Axes>"
      ]
     },
     "metadata": {
      "needs_background": "light"
     },
     "output_type": "display_data"
    }
   ],
   "source": [
    "plt.scatter(mec_arr_sdhap, cpr_arr_sdhap)\n",
    "plt.xlabel('MEC score')\n",
    "plt.ylabel('CPR')\n",
    "\n",
    "idx_sdhap = np.argsort(mec_arr_sdhap)[:3]\n",
    "plt.scatter(np.array(mec_arr_sdhap)[idx_sdhap], np.array(cpr_arr_sdhap)[idx_sdhap], color='red')\n",
    "\n",
    "print(list(zip(np.array(mec_arr_sdhap)[idx_sdhap], np.array(cpr_arr_sdhap)[idx_sdhap])))"
   ]
  },
  {
   "cell_type": "code",
   "execution_count": null,
   "metadata": {},
   "outputs": [],
   "source": []
  },
  {
   "cell_type": "code",
   "execution_count": 64,
   "metadata": {},
   "outputs": [
    {
     "name": "stdout",
     "output_type": "stream",
     "text": [
      "Weight matrix:  [[1. 1. 0. ... 0. 0. 0.]\n",
      " [1. 1. 0. ... 0. 0. 0.]\n",
      " [0. 0. 1. ... 0. 0. 0.]\n",
      " ...\n",
      " [0. 0. 0. ... 1. 0. 0.]\n",
      " [0. 0. 0. ... 0. 1. 0.]\n",
      " [0. 0. 0. ... 0. 0. 1.]]\n",
      "Initial V:  [[-0.88046699  0.47410746]\n",
      " [-0.99010067 -0.14035903]\n",
      " [-0.79693861  0.6040603 ]\n",
      " [ 0.08391239 -0.99647314]\n",
      " [-0.94763131  0.31936639]\n",
      " [-0.6397055   0.76862011]\n",
      " [ 0.36887427 -0.9294793 ]\n",
      " [-0.43141032  0.90215582]\n",
      " [-0.91656504  0.39988564]\n",
      " [-0.60553451 -0.79581905]]\n",
      "k =  2 , r =  3\n",
      "k =  2 , r =  3\n",
      "k =  2 , r =  3\n",
      "k =  3 , r =  4\n",
      "k =  3 , r =  4\n",
      "k =  3 , r =  4\n",
      "k =  3 , r =  4\n",
      "k =  3 , r =  4\n",
      "k =  3 , r =  4\n",
      "k =  3 , r =  4\n",
      "k =  3 , r =  4\n",
      "k =  3 , r =  4\n",
      "k =  3 , r =  4\n",
      "k =  3 , r =  4\n",
      "k =  3 , r =  4\n",
      "k =  3 , r =  4\n",
      "k =  3 , r =  4\n",
      "k =  3 , r =  4\n",
      "k =  3 , r =  4\n",
      "k =  3 , r =  4\n",
      "k =  3 , r =  4\n",
      "k =  3 , r =  4\n",
      "k =  3 , r =  4\n",
      "k =  3 , r =  4\n",
      "k =  3 , r =  4\n",
      "k =  3 , r =  4\n",
      "k =  3 , r =  4\n",
      "k =  3 , r =  4\n",
      "k =  3 , r =  4\n",
      "k =  3 , r =  4\n",
      "k =  3 , r =  4\n",
      "k =  3 , r =  4\n",
      "k =  3 , r =  4\n",
      "k =  3 , r =  4\n",
      "k =  3 , r =  4\n",
      "k =  3 , r =  4\n",
      "k =  3 , r =  4\n",
      "k =  3 , r =  4\n",
      "k =  3 , r =  4\n",
      "k =  3 , r =  4\n",
      "k =  3 , r =  4\n",
      "k =  3 , r =  4\n",
      "k =  3 , r =  4\n",
      "k =  3 , r =  4\n",
      "k =  3 , r =  4\n",
      "k =  3 , r =  4\n",
      "k =  3 , r =  4\n",
      "k =  3 , r =  4\n",
      "k =  3 , r =  4\n",
      "k =  3 , r =  4\n",
      "k =  3 , r =  4\n",
      "k =  3 , r =  4\n",
      "k =  3 , r =  4\n",
      "k =  3 , r =  4\n",
      "k =  3 , r =  4\n",
      "k =  3 , r =  4\n",
      "k =  3 , r =  4\n",
      "k =  3 , r =  4\n",
      "k =  3 , r =  4\n",
      "k =  3 , r =  4\n",
      "k =  3 , r =  4\n",
      "k =  3 , r =  4\n",
      "k =  3 , r =  4\n",
      "k =  3 , r =  4\n",
      "k =  3 , r =  4\n",
      "k =  3 , r =  4\n",
      "k =  3 , r =  4\n",
      "k =  3 , r =  4\n",
      "k =  3 , r =  4\n",
      "k =  3 , r =  4\n",
      "k =  3 , r =  4\n",
      "k =  3 , r =  4\n",
      "k =  3 , r =  4\n",
      "k =  3 , r =  4\n",
      "k =  3 , r =  4\n",
      "Final V =  [[-9.99963931e-01 -8.45549140e-03 -6.17162303e-04  5.11342612e-04]\n",
      " [-9.99963929e-01 -8.45565426e-03 -6.17161969e-04  5.11342712e-04]\n",
      " [ 7.69602786e-01 -6.38522937e-01 -1.03245576e-04 -6.33985845e-06]\n",
      " ...\n",
      " [-9.26240558e-01  3.76932834e-01 -1.68823834e-04  1.97497135e-04]\n",
      " [-7.81723976e-01  6.23624579e-01  9.93518291e-05  2.04521310e-05]\n",
      " [-9.42516925e-01 -3.34154049e-01  1.69893782e-03  1.73963270e-04]]\n",
      "[10792.62076383 10353.60757703 10766.2900279  10611.71041862\n",
      " 10690.58266859 10783.50088044 10599.04420706 10485.03967499\n",
      " 10901.75167409 10707.37708528 10305.2805041  10602.50156081\n",
      " 10477.62336124 10566.20757702 10784.74752269 10496.20660022\n",
      " 10711.23738838 10561.31859933 10507.01070396 10926.91357885\n",
      "  9549.30722968 10735.54717075 10798.05008679 10395.54215029\n",
      " 10523.99508951 10759.37609412 10416.0801045  10530.14405166\n",
      " 10556.22786458 10826.35387189 10604.25193267 10406.06105688\n",
      " 10167.42662465 10674.43421378 10578.24420706 10509.02151537\n",
      " 10681.22336123 10608.34677116 10555.16568231 10862.28183282\n",
      " 10495.31087373 10887.2681576  10671.85592867 10589.41343783\n",
      " 10690.79929314 10728.35409716 10739.91347112 10613.4827019\n",
      " 10469.88949184 10804.01603522 10152.12920769 10540.47548363\n",
      " 10757.12432367 10885.03714417 10817.81418935 10817.81418935\n",
      " 10832.41516615 10621.40757702 10410.20246775 10724.27865822\n",
      " 10633.21124002 10738.62076383 10330.25193267 10603.11548023\n",
      " 10575.44056299 10362.79072721 10924.70088044 10671.84375195\n",
      " 10566.04881356 10931.48500742 10618.31600193 10657.68010449\n",
      " 10607.01070396 10712.56754711 10654.7538719  10376.61343784\n",
      " 10688.68270189 10730.03749154 10739.58526599 10447.87424369\n",
      " 10744.41603522 10821.93580107 10861.3675471  10426.15043417\n",
      " 10608.65193266 10736.08720523 10605.22296163 10608.75849277\n",
      " 10611.92749827 10665.86595981 10932.17072171 10704.17098028\n",
      " 10596.07737062 10688.68270189 10378.08720524 10332.14936857\n",
      " 10430.09453124 10656.62053857 10536.34403729 10721.78213252]\n",
      "[ 1.  1. -1. -1.  1.  1. -1. -1.  1. -1. -1.  1.  1.  1.  1.  1. -1.  1.\n",
      " -1. -1.  1. -1.  1. -1. -1. -1. -1.  1. -1.  1.  1. -1.  1.  1.  1.  1.\n",
      "  1. -1.  1.  1. -1.  1. -1. -1.  1.  1. -1. -1. -1. -1.  1. -1. -1. -1.\n",
      " -1. -1. -1. -1. -1. -1.  1. -1. -1. -1.  1.  1. -1. -1. -1. -1.  1. -1.\n",
      " -1. -1. -1. -1.  1.  1. -1. -1. -1. -1.  1. -1. -1.  1.  1. -1.  1. -1.\n",
      "  1.  1.  1. -1. -1.  1.  1. -1. -1. -1. -1.  1. -1.  1. -1. -1. -1. -1.\n",
      "  1. -1.  1.  1. -1. -1. -1. -1.  1.  1. -1. -1. -1. -1. -1. -1. -1. -1.\n",
      " -1. -1.  1. -1. -1. -1. -1. -1.  1. -1.  1. -1. -1.  1.  1.  1. -1. -1.\n",
      " -1. -1.  1.  1. -1.  1.  1. -1. -1.  1.  1. -1. -1. -1. -1.  1. -1. -1.\n",
      "  1.  1. -1.  1. -1. -1. -1. -1. -1. -1. -1.  1. -1. -1.  1.  1. -1.  1.\n",
      " -1. -1.  1. -1.  1. -1.  1.  1. -1.  1. -1.  1. -1. -1. -1. -1. -1.  1.\n",
      " -1. -1.  1. -1. -1. -1.  1. -1. -1. -1. -1.  1.  1. -1. -1. -1.  1.  1.\n",
      " -1.  1.  1. -1.  1.  1.  1. -1. -1.  1.  1.  1. -1. -1. -1. -1.  1.  1.\n",
      "  1.  1. -1. -1.  1.  1. -1.  1. -1. -1.  1.  1. -1. -1. -1. -1. -1. -1.\n",
      "  1.  1. -1. -1. -1. -1. -1. -1.  1.  1. -1.  1. -1. -1.  1. -1. -1. -1.\n",
      " -1.  1. -1. -1. -1. -1. -1.  1. -1. -1.  1. -1. -1. -1. -1.  1.  1. -1.\n",
      "  1. -1. -1.  1.  1.  1.  1.  1. -1. -1. -1.  1. -1.  1. -1.  1. -1. -1.\n",
      "  1. -1.  1. -1. -1.  1. -1. -1.  1. -1.  1. -1. -1.  1.  1.  1. -1.  1.\n",
      "  1. -1. -1.  1. -1. -1. -1. -1. -1.  1. -1.  1. -1. -1.  1. -1.  1. -1.\n",
      " -1. -1.  1.  1.  1. -1. -1.  1. -1.  1.  1. -1. -1.  1.  1. -1. -1.  1.\n",
      " -1.  1.  1.  1. -1. -1.  1.  1. -1. -1. -1. -1. -1.  1. -1.  1. -1.  1.\n",
      " -1. -1. -1. -1. -1. -1. -1. -1.  1. -1. -1.  1. -1. -1. -1. -1. -1. -1.\n",
      " -1. -1. -1. -1. -1. -1. -1.  1.  1. -1. -1. -1.  1. -1. -1. -1.  1. -1.\n",
      " -1.  1. -1.  1.  1. -1.  1.  1.  1. -1. -1.  1. -1. -1.  1. -1.  1.  1.\n",
      " -1. -1. -1.  1. -1.  1. -1.  1.  1.  1. -1.  1.  1.  1. -1. -1.  1.  1.\n",
      "  1. -1. -1. -1. -1.  1.  1.  1.  1. -1. -1.  1.  1.  1.  1.  1.  1. -1.\n",
      "  1. -1.  1.  1.  1.  1. -1. -1.  1.  1. -1. -1.  1. -1. -1.  1.  1.  1.\n",
      " -1.  1.  1.  1. -1.  1. -1. -1. -1.  1.  1. -1.  1. -1. -1. -1. -1. -1.\n",
      "  1. -1. -1. -1. -1.  1. -1.  1.  1. -1. -1.  1.  1. -1.  1. -1.  1. -1.\n",
      " -1.  1. -1. -1. -1. -1.  1. -1. -1. -1. -1. -1.  1.  1. -1. -1. -1.  1.\n",
      "  1. -1.  1. -1. -1. -1. -1.  1. -1.  1. -1. -1.  1.  1. -1. -1.  1.  1.\n",
      " -1. -1. -1. -1.  1. -1. -1.  1.  1. -1.  1.  1. -1.  1. -1.  1. -1.  1.\n",
      " -1. -1.  1. -1.  1.  1.  1. -1.  1.  1. -1.  1. -1.  1. -1.  1.  1.  1.\n",
      " -1.  1. -1.  1.  1.  1.  1. -1.  1. -1. -1. -1.  1.  1.  1.  1.  1.  1.\n",
      "  1. -1.  1. -1. -1. -1.  1. -1.  1.  1. -1. -1. -1.  1.  1. -1.  1. -1.\n",
      "  1.  1.  1. -1.  1. -1.  1.  1.  1.  1.  1.  1. -1. -1.  1.  1. -1.  1.\n",
      "  1. -1.  1. -1.  1.  1.  1.  1. -1. -1.  1.  1.  1. -1. -1.  1.  1. -1.\n",
      "  1. -1. -1.  1.  1. -1. -1. -1.  1.  1.  1. -1.  1. -1. -1.  1.  1.  1.\n",
      "  1.  1.  1. -1. -1.  1.  1.  1. -1.  1.  1.  1.  1.  1. -1. -1.  1. -1.\n",
      " -1.  1. -1.  1.  1.  1.  1.  1. -1.  1. -1. -1.  1. -1.  1.  1.  1.  1.\n",
      " -1.  1. -1.  1.  1.  1.  1. -1.  1.  1. -1. -1.  1. -1.  1.  1.  1. -1.\n",
      "  1.  1. -1.  1. -1. -1.  1.  1.  1. -1. -1.  1.  1. -1.  1.  1.  1. -1.\n",
      "  1.  1.  1.  1. -1. -1. -1.  1.  1. -1. -1. -1.  1.  1. -1.  1.  1. -1.\n",
      "  1.  1. -1.  1. -1. -1. -1. -1.  1. -1.  1.  1. -1.  1. -1.  1. -1.  1.\n",
      "  1.  1.  1.  1.  1.  1.  1.  1. -1.  1. -1. -1.  1. -1.  1.  1.  1. -1.\n",
      "  1. -1. -1.  1. -1. -1.  1.  1.  1. -1. -1. -1.  1.  1.  1.  1.  1.  1.\n",
      "  1. -1.  1.  1.  1. -1.  1.  1.  1. -1. -1.  1. -1. -1.  1.  1.  1. -1.\n",
      " -1.  1.  1.  1.  1.  1.  1.  1.  1.  1.  1.  1. -1.  1.  1.  1. -1. -1.\n",
      "  1.  1.  1. -1. -1. -1. -1.  1. -1.  1.  1. -1. -1. -1.  1.  1.  1.  1.\n",
      " -1.  1. -1.  1.  1.  1.  1.]\n",
      "CPR for SDHap:  0.5889570552147239\n",
      "MEC score for SDHap:  62\n",
      "Fraction of reads assigned to 1st haplotype:  0.48256467941507314\n"
     ]
    }
   ],
   "source": [
    "sval_thr = 1e-1  # eps_th in SDHap\n",
    "change_thr = 1e-5  # eps_tol in SDHap\n",
    "m = np.shape(SNV_matrix)[0]\n",
    "V = np.random.randn(m, 2)\n",
    "V = V/np.linalg.norm(V, axis=1).reshape(m,1)  # Row normalization\n",
    "\n",
    "col_V = np.shape(V)[1]\n",
    "rank_V = 1\n",
    "upd = True  # Set to false when convergence is achieved\n",
    "obj_curr = np.inf\n",
    "\n",
    "print('Weight matrix: ', W_sdhap)\n",
    "print(\"Initial V: \", V[:10])\n",
    "while upd:\n",
    "    for i in range(m):\n",
    "        V[i] = W_sdhap[i] @ V\n",
    "#         print(\"After multiplication \", i, V[i])\n",
    "        V[i] = V[i]/np.linalg.norm(V[i])\n",
    "#     print(V[:10])\n",
    "#         print('Singular values: ', np.linalg.svd(V, compute_uv=False))\n",
    "    rank_V = np.sum(np.linalg.svd(V, compute_uv=False) >= sval_thr)\n",
    "    if(rank_V == col_V):  # V is full column rank\n",
    "        col_V = col_V + 1\n",
    "        rand_col = np.random.rand(m) - 0.5\n",
    "        V = np.append(V, 0.01*rand_col[:,np.newaxis],\n",
    "                      axis=1)\n",
    "        V = V/np.linalg.norm(V, axis=1).reshape(m,1)  # Row normalization\n",
    "\n",
    "    obj_prev = obj_curr\n",
    "    obj_curr = np.trace(W_sdhap @ V @ V.T)\n",
    "    print(\"k = \", rank_V, \", r = \", col_V)\n",
    "#     print(\"Prev obj = \", obj_prev, \", new obj = \", obj_curr)\n",
    "#     print(\"Percentage drop in objective value = \", 1 - obj_curr/obj_prev)\n",
    "    upd = (rank_V != col_V) and (np.abs(1.-obj_curr/obj_prev) >= change_thr)\n",
    "\n",
    "# Randomized projection\n",
    "print(\"Final V = \", V)\n",
    "num_rounds = 10*int(np.ceil(np.log2(m)))  # number of rounds\n",
    "round_x = np.zeros((m, num_rounds), dtype=np.float32)  # x for each round\n",
    "round_obj = np.zeros(num_rounds)  # ojective for each round\n",
    "for i in range(num_rounds):\n",
    "    unit_vec = np.random.randn(col_V)\n",
    "#         unit_vec = unit_vec/np.linalg.norm(unit_vec)\n",
    "#     print(i, unit_vec, np.sum(V @ unit_vec > 0))\n",
    "    x = -1*np.ones(m, dtype=np.float32)\n",
    "    x[np.where(V @ unit_vec > 0)] = 1\n",
    "\n",
    "    round_x[:, i] = x\n",
    "    round_obj[i] = np.dot(x, W_sdhap @ x)\n",
    "print(round_obj)\n",
    "\n",
    "hap_origin_sdhap = round_x[:, np.argmax(round_obj)]\n",
    "hap_matrix_sdhap = origin2hap(SNV_matrix, (hap_origin_sdhap.astype(int) + 1)/2) \n",
    "cpr_sdhap = compute_cpr(hap_matrix_sdhap, true_haplo)\n",
    "print(hap_origin_sdhap) \n",
    "print('CPR for SDHap: ', cpr_sdhap)\n",
    "print('MEC score for SDHap: ', MEC(SNV_matrix, hap_matrix_sdhap))\n",
    "print('Fraction of reads assigned to 1st haplotype: ', np.sum(hap_origin_sdhap == 1)/len(hap_origin_sdhap))"
   ]
  },
  {
   "cell_type": "code",
   "execution_count": null,
   "metadata": {},
   "outputs": [],
   "source": [
    "mec_arr_sdhap = np.zeros(np.shape(round_x)[1])\n",
    "cpr_arr_sdhap = np.zeros(np.shape(round_x)[1])\n",
    "\n",
    "for i, x in enumerate(round_x.T):\n",
    "    hap_matrix_i = origin2hap(SNV_matrix, (round_x[:, i].astype(int) + 1)/2)\n",
    "    cpr_arr_sdhap[i] = compute_cpr(hap_matrix_i, true_haplo)\n",
    "    mec_arr_sdhap[i] = MEC(SNV_matrix, hap_matrix_i)\n",
    "    \n",
    "print('CPR for all solutions: ', cpr_arr_sdhap)\n",
    "print('MEC for all solutions: ', mec_arr_sdhap)\n",
    "print('CPR for best solutions: ', cpr_arr_sdhap[mec_arr_sdhap == MEC(SNV_matrix, hap_matrix_sdhap)])"
   ]
  },
  {
   "cell_type": "code",
   "execution_count": null,
   "metadata": {},
   "outputs": [],
   "source": [
    "hap_matrix_i = origin2hap(SNV_matrix, (round_x[:, -3].astype(int) + 1)/2)\n",
    "\n",
    "hap_matrix_j = origin2hap(SNV_matrix, (round_x[:, -3].astype(int) + 1)/2)\n",
    "\n",
    "print(hap_matrix_i - hap_matrix_j)"
   ]
  },
  {
   "cell_type": "code",
   "execution_count": null,
   "metadata": {},
   "outputs": [],
   "source": [
    "from itertools import permutations\n",
    "recovered_haplo = hap_matrix_sdhap\n",
    "\n",
    "distance_table = np.zeros((len(recovered_haplo), len(true_haplo)))\n",
    "for i, rec_hap in enumerate(recovered_haplo):\n",
    "        for j, true_hap in enumerate(true_haplo):\n",
    "                distance_table[i, j] = hamming_distance(rec_hap, true_hap)\n",
    "\n",
    "index = permutations(range(true_haplo.shape[0]))\n",
    "min_distance = np.inf\n",
    "distance = []\n",
    "for matching in index:\n",
    "        count = 0\n",
    "        for i, match_idx in enumerate(matching):\n",
    "                count += distance_table[i, match_idx]\n",
    "        distance.append(count)\n",
    "        if count < min_distance:\n",
    "                best_matching = matching\n",
    "                min_distance = count\n",
    "# index = (list(index))[np.argmin(np.array(distance))]  # Best one-to-one mapping\n",
    "# print(best_matching)\n",
    "print('CPR: ', 1 - min(distance) / np.size(true_haplo))\n",
    "print(distance_table)\n",
    "print(recovered_haplo)\n",
    "print(true_haplo)\n",
    "print()\n",
    "for hap_origin_i in round_x.T:\n",
    "    hap_matrix_i = origin2hap(SNV_matrix, (hap_origin_i.astype(int) + 1)/2) \n",
    "    print('CPR for approximation: ',  compute_cpr(hap_matrix_i, true_haplo))\n",
    "    print('Haplotypes: \\n', hap_matrix_i)\n",
    "    print()"
   ]
  },
  {
   "cell_type": "code",
   "execution_count": null,
   "metadata": {},
   "outputs": [],
   "source": [
    "from itertools import permutations\n",
    "recovered_haplo = hap_matrix\n",
    "\n",
    "distance_table = np.zeros((len(recovered_haplo), len(true_haplo)))\n",
    "for i, rec_hap in enumerate(recovered_haplo):\n",
    "        for j, true_hap in enumerate(true_haplo):\n",
    "                distance_table[i, j] = hamming_distance(rec_hap, true_hap)\n",
    "\n",
    "index = permutations(range(true_haplo.shape[0]))\n",
    "min_distance = np.inf\n",
    "distance = []\n",
    "for matching in index:\n",
    "        count = 0\n",
    "        for i, match_idx in enumerate(matching):\n",
    "                count += distance_table[i, match_idx]\n",
    "        distance.append(count)\n",
    "        if count < min_distance:\n",
    "                best_matching = matching\n",
    "                min_distance = count\n",
    "# index = (list(index))[np.argmin(np.array(distance))]  # Best one-to-one mapping\n",
    "# print(best_matching)\n",
    "print('CPR: ', 1 - min(distance) / np.size(true_haplo))\n",
    "print(hap_matrix[0]-true_haplo[0])\n",
    "print(hap_matrix[0]-true_haplo[1])"
   ]
  },
  {
   "cell_type": "code",
   "execution_count": null,
   "metadata": {},
   "outputs": [],
   "source": [
    "X = cp.Variable((m,m), symmetric=True)\n",
    "constraints = [X >> 0]\n",
    "constraints += [\n",
    "    X[i, i] == 1 for i in range(m)\n",
    "]\n",
    "prob = cp.Problem(cp.Minimize(cp.trace(W  @ X)),\n",
    "              constraints)  # Solve SDP relaxation\n",
    "prob.solve(verbose=True)\n",
    "X_opt = X.value"
   ]
  },
  {
   "cell_type": "code",
   "execution_count": null,
   "metadata": {},
   "outputs": [],
   "source": [
    "# Goemans-Williamson algorithm\n",
    "X = cp.Variable((m,m), symmetric=True)\n",
    "constraints = [X >> 0]\n",
    "constraints += [\n",
    "    X[i, i] == 1 for i in range(m)\n",
    "]\n",
    "prob = cp.Problem(cp.Minimize(cp.trace(W  @ X)),\n",
    "              constraints)  # Solve SDP relaxation\n",
    "prob.solve()\n",
    "X_opt = X.value\n",
    "\n",
    "num_rounds = 10*int(np.ceil(np.log2(m)))  # number of rounds\n",
    "round_x = np.zeros((m, num_rounds), dtype=np.float32)  # x for each round\n",
    "round_obj = np.zeros(num_rounds)  # ojective for each round\n",
    "for i in range(num_rounds):\n",
    "    unit_vec = np.random.randn(m)\n",
    "    unit_vec = unit_vec/np.linalg.norm(unit_vec)\n",
    "    x = -1*np.ones(m, dtype=np.float32)\n",
    "    eigval, eigvec = np.linalg.eigh(X_opt)\n",
    "    eigval[eigval<0] = 0  # Zeroing out negative eigenvalues\n",
    "    L = eigvec @ np.diag(np.sqrt(eigval))\n",
    "#         L = np.linalg.cholesky(X_opt+ 1e-4*np.eye(m))  # Tikhonov regularization\n",
    "    x[np.where(L.T @ unit_vec > 0)] = 1\n",
    "\n",
    "    round_x[:, i] = x\n",
    "    round_obj[i] = np.dot(x, W @ x)\n",
    "\n",
    "hap_origin = round_x[:, np.argmin(round_obj)]\n",
    "hap_matrix = origin2hap(SNV_matrix, (hap_origin.astype(int) + 1)/2) \n",
    "cpr_sdhap = compute_cpr(hap_matrix, true_haplo)\n",
    "print(hap_origin) \n",
    "print(cpr_sdhap)\n",
    "print(round_obj)"
   ]
  },
  {
   "cell_type": "markdown",
   "metadata": {},
   "source": [
    "#### Greedy refinement"
   ]
  },
  {
   "cell_type": "code",
   "execution_count": null,
   "metadata": {},
   "outputs": [],
   "source": [
    "hap_matrix[:,0][::-1]"
   ]
  },
  {
   "cell_type": "code",
   "execution_count": null,
   "metadata": {},
   "outputs": [],
   "source": [
    "hap_matrix_greedy = deepcopy(hap_matrix)  # Refined solution\n",
    "mec_curr = MEC(SNV_matrix, hap_matrix)  # Current MEC\n",
    "\n",
    "hap_matrix_new = deepcopy(hap_matrix)\n",
    "while True:\n",
    "    mec_startiter = mec_curr\n",
    "    for j in range(np.shape(hap_matrix)[1]):\n",
    "        hap_matrix_new[:,j] = hap_matrix[:,j][::-1]  # Flip base\n",
    "        mec_new = MEC(SNV_matrix, hap_matrix_new)\n",
    "        if mec_new < mec_curr:  # Update refined solution\n",
    "            mec_curr = mec_new\n",
    "            hap_matrix_greedy[:,j] = hap_matrix[:,j][::-1]\n",
    "        else:  # Reverse base flip\n",
    "            hap_matrix_new[:,j] = hap_matrix[:,j]\n",
    "    if mec_curr == mec_startiter:  # Greedy refinement not improving MEC\n",
    "        break\n",
    "    else:\n",
    "        print(mec_startiter, mec_curr)\n",
    "cpr_sdhap_greedy = compute_cpr(hap_matrix_greedy, true_haplo)\n",
    "print(cpr_sdhap_greedy)"
   ]
  },
  {
   "cell_type": "markdown",
   "metadata": {},
   "source": [
    "### Testing out helper functions"
   ]
  },
  {
   "cell_type": "code",
   "execution_count": null,
   "metadata": {},
   "outputs": [],
   "source": [
    "refine(hap_matrix, SNV_matrix, verbose=True)"
   ]
  },
  {
   "cell_type": "code",
   "execution_count": null,
   "metadata": {},
   "outputs": [],
   "source": [
    "det_memhap(SNVdata, embedAE, corr_xformer)"
   ]
  },
  {
   "cell_type": "code",
   "execution_count": null,
   "metadata": {},
   "outputs": [],
   "source": [
    "hap_matrix = origin2hap(SNVdata, np.concatenate((np.ones(50), -1*np.ones(50))))"
   ]
  },
  {
   "cell_type": "code",
   "execution_count": null,
   "metadata": {},
   "outputs": [],
   "source": [
    "MEC(SNV_matrix, hap_matrix)"
   ]
  },
  {
   "cell_type": "markdown",
   "metadata": {},
   "source": [
    "#### Code snippet to recover full SNV matrix from "
   ]
  },
  {
   "cell_type": "code",
   "execution_count": null,
   "metadata": {},
   "outputs": [],
   "source": [
    "dataloader_full = DataLoader(SNVdataset,\n",
    "                             batch_size=len(SNVdataset),\n",
    "                             num_workers=0)\n",
    "for i, data in enumerate(dataloader_full):\n",
    "    SNV_tensor = np.squeeze(data.detach().numpy())\n",
    "\n",
    "SNV_matrix = np.zeros((SNV_tensor.shape[0], SNV_tensor.shape[2]))\n",
    "SNV_cov = np.nonzero(np.sum(SNV_tensor, axis=1))\n",
    "SNV_matrix[SNV_cov] = np.argmax(SNV_tensor, axis=1)[SNV_cov] + 1"
   ]
  },
  {
   "cell_type": "markdown",
   "metadata": {},
   "source": [
    "### Testing out transformer"
   ]
  },
  {
   "cell_type": "code",
   "execution_count": 28,
   "metadata": {},
   "outputs": [
    {
     "name": "stdout",
     "output_type": "stream",
     "text": [
      "torch.Size([1, 500, 32])\n",
      "torch.Size([1, 500])\n"
     ]
    },
    {
     "data": {
      "text/plain": [
       "tensor([[[ 1.0000,  0.1954, -0.0705,  ..., -0.0338,  0.4121,  0.4287],\n",
       "         [ 0.1954,  1.0000,  0.0018,  ...,  0.1492,  0.2856,  0.4612],\n",
       "         [-0.0705,  0.0018,  1.0000,  ...,  0.3570,  0.0546,  0.1313],\n",
       "         ...,\n",
       "         [-0.0338,  0.1492,  0.3570,  ...,  1.0000,  0.2478,  0.2724],\n",
       "         [ 0.4121,  0.2856,  0.0546,  ...,  0.2478,  1.0000,  0.4250],\n",
       "         [ 0.4287,  0.4612,  0.1313,  ...,  0.2724,  0.4250,  1.0000]]],\n",
       "       grad_fn=<UnsafeViewBackward0>)"
      ]
     },
     "execution_count": 28,
     "metadata": {},
     "output_type": "execute_result"
    }
   ],
   "source": [
    "x = torch.randn((1, 500, 128))\n",
    "CorrTransform = CorrTransformer(d_model=128)\n",
    "CorrTransform(x)"
   ]
  }
 ],
 "metadata": {
  "kernelspec": {
   "display_name": "Python 3",
   "language": "python",
   "name": "python3"
  },
  "language_info": {
   "codemirror_mode": {
    "name": "ipython",
    "version": 3
   },
   "file_extension": ".py",
   "mimetype": "text/x-python",
   "name": "python",
   "nbconvert_exporter": "python",
   "pygments_lexer": "ipython3",
   "version": "3.9.7"
  }
 },
 "nbformat": 4,
 "nbformat_minor": 4
}
