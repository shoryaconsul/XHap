{
 "cells": [
  {
   "cell_type": "markdown",
   "metadata": {},
   "source": [
    "This file is to test out fubnctions to parse the various files needed for competing methods."
   ]
  },
  {
   "cell_type": "code",
   "execution_count": 68,
   "metadata": {},
   "outputs": [],
   "source": [
    "import numpy as np\n",
    "from os import path\n",
    "from helper import read_true_hap"
   ]
  },
  {
   "cell_type": "markdown",
   "metadata": {},
   "source": [
    "## Creating VCF file corresponding to input SNP positions"
   ]
  },
  {
   "cell_type": "code",
   "execution_count": 80,
   "metadata": {},
   "outputs": [],
   "source": [
    "def pos2vcf(ref_file: str, pos_file: str,\n",
    "            read_SNP_matfile: str, out_file: str) -> None:\n",
    "    \n",
    "    if not path.isfile(ref_file):\n",
    "            raise OSError(\"Reference file not found.\")\n",
    "    if not path.isfile(read_SNP_matfile):\n",
    "            raise OSError(\"Read-SNP matrix file not found.\")\n",
    "    if not path.isfile(pos_file):\n",
    "        raise OSError('SNP position file not found.')\n",
    "\n",
    "    base2int = {'A': 1, 'C': 2, 'G': 3, 'T': 4, '-': 0}  # mapping of base to int\n",
    "    int2base = {1: 'A', 2: 'C', 3: 'G', 4: 'T', 0: '-'}  # mapping of base to int        \n",
    "\n",
    "    with open(pos_file, \"r\") as f:\n",
    "        pos_str = f.readline().split()\n",
    "        pos = np.array([int(ps) - 1 for ps in pos_str]) # Convert to int, assuming pos_file is 1-indexed\n",
    "\n",
    "    with open(ref_file, \"r\") as f:  # Read reference FASTA\n",
    "        while True:\n",
    "            line = f.readline()\n",
    "            if not line:\n",
    "                break\n",
    "            if line[0] != '>':  # ignore header strings\n",
    "                hap_ref = np.array([base2int[line[p]] for p in pos]).astype('int')\n",
    "\n",
    "    SNV_matrix = np.loadtxt(read_SNP_matfile, dtype=int)\n",
    "\n",
    "\n",
    "    print(hap_ref)\n",
    "    print(SNV_matrix)"
   ]
  },
  {
   "cell_type": "code",
   "execution_count": 81,
   "metadata": {},
   "outputs": [],
   "source": [
    "outhead = 'hap_n3_cov10'\n",
    "datapath = 'generate_data/' + outhead + '/' + outhead + '_SNV_matrix.txt'\n",
    "gt_file = 'generate_data/' + outhead + '/combined.fa'\n",
    "pos_file = 'generate_data/' + outhead + '/' + outhead + '_SNV_pos.txt'\n",
    "\n",
    "ref_file = \"generate_data/lactococcus_phage.fa\""
   ]
  },
  {
   "cell_type": "code",
   "execution_count": 84,
   "metadata": {},
   "outputs": [
    {
     "name": "stdout",
     "output_type": "stream",
     "text": [
      "(array([  0,   0,   1, ..., 862, 862, 862]), array([275, 276,  77, ..., 378, 379, 380]))\n",
      "[4 3 1 3 1 4 4 2 1 1 4 2 3 1 3 2 4 1 2 1 1 3 1 1 1 4 4 4 1 3 4 3 4 3 1 1 4\n",
      " 1 1 1 1 1 4 1 1 4 4 2 1 2 1 1 2 4 3 3 2 1 1 1 2 1 1 1 1 1 1 3 1 3 3 1 3 1\n",
      " 1 1 4 1 3 4 3 3 1 4 3 3 2 2 4 4 3 1 1 1 4 1 1 1 1 1 2 1 1 4 1 4 3 1 4 2 4\n",
      " 1 1 4 3 1 4 1 4 1 3 1 3 4 2 4 2 4 4 1 4 3 4 1 3 1 3 3 4 1 3 2 1 2 3 4 3 1\n",
      " 1 4 1 3 3 2 4 1 2 4 1 3 4 4 4 2 1 4 2 4 3 4 4 1 3 1 3 4 4 3 4 3 2 3 2 1 1\n",
      " 4 3 2 1 1 2 1 1 2 1 3 3 2 2 2 1 2 3 1 1 2 1 1 1 1 4 2 4 1 1 3 4 1 4 4 3 1\n",
      " 1 4 1 1 1 2 3 1 1 1 2 1 1 1 4 2 3 3 1 1 2 2 3 4 4 1 2 4 1 4 1 1 1 2 2 3 1\n",
      " 2 4 4 2 2 1 3 1 4 4 1 3 2 2 2 3 1 1 2 4 4 4 2 4 2 1 4 4 3 4 2 4 3 4 1 1 4\n",
      " 3 4 1 1 2 4 1 4 2 2 1 1 2 4 4 4 2 1 1 3 1 3 1 2 3 1 1 4 1 4 4 2 1 3 1 4 1\n",
      " 1 4 1 2 4 2 3 1 4 4 2 2 1 3 1 2 2 1 4 4 4 4 1 1 3 4 1 2 1 1 2 4 2 1 4 3 4\n",
      " 4 4 3 4 2 3 2 1 1 1 4 4 1 4 2 4 1 4 2 4 1 1 4 4 2 4 1 4 4 4 2 4 3 3 1 3 3\n",
      " 1 4 1 4 2 1 1 2 2 2 3 1 4 2 1 2 4 4 4 1 4 1 4 3 2 1 2 3 4 3 1 2 3 4 4 4 4\n",
      " 2 4 1 2 4 4 3 2 4 4 1 3 2 1 4 3 4 4 1 2 4 1 1 4 1 4 2 1 4 2 4 4 4 1 1 1 1\n",
      " 1 4 1 1 2 2 2 4 4 1 1 1 4 2 3 4 3 2 4 1 4 2 4 1 1 1 4 3 3 2 2 2 1 1 3 4 4\n",
      " 1 1 1 4 1 3 2 4 1 1 3 4 3 4 4 4 4 1 3 3 4 1 2 2 2 4 3 3 4 1 1 2 4 3 4 3 3\n",
      " 3 4 3 1 4 3 1 3]\n",
      "[[0 0 0 ... 0 0 0]\n",
      " [0 0 0 ... 0 0 0]\n",
      " [0 0 0 ... 0 0 0]\n",
      " ...\n",
      " [0 0 0 ... 0 0 0]\n",
      " [0 0 0 ... 0 0 0]\n",
      " [0 0 0 ... 0 0 0]]\n"
     ]
    }
   ],
   "source": [
    "SNV_matrix = np.loadtxt(datapath, dtype=int)\n",
    "\n",
    "pos2vcf(ref_file, pos_file, datapath, \"\")"
   ]
  },
  {
   "cell_type": "code",
   "execution_count": 62,
   "metadata": {},
   "outputs": [
    {
     "name": "stdout",
     "output_type": "stream",
     "text": [
      "(array([ 15,  29,  43,  45,  56,  58,  60,  62,  78,  80,  85,  86,  87,\n",
      "        91,  92, 101, 103, 104, 105, 106, 108, 109, 111, 117, 118, 136,\n",
      "       139, 141, 144, 145, 146, 147, 148, 153, 159, 162, 166, 176, 177,\n",
      "       182, 190, 191, 192, 193, 194, 195, 197, 202, 204, 205, 206, 209,\n",
      "       210, 213, 214, 217, 222, 247, 248, 249, 254, 270, 273, 277, 279,\n",
      "       280, 281, 282, 283, 295, 296, 298, 300, 319, 320, 331, 332, 335,\n",
      "       340, 347, 353, 357, 358, 360, 370, 371, 381, 382, 383, 405, 407,\n",
      "       421, 450, 458, 459, 461, 462, 463, 464, 466, 467, 475, 492, 494,\n",
      "       513, 514, 518, 524, 525, 526, 528, 531, 533, 539, 546]),)\n",
      "(array([ 12,  13,  15,  16,  28,  56,  58,  59,  76,  77,  78,  85,  86,\n",
      "       100, 114, 117, 118, 119, 122, 126, 128, 131, 133, 134, 136, 139,\n",
      "       141, 144, 146, 147, 148, 153, 156, 162, 166, 167, 178, 182, 184,\n",
      "       185, 187, 191, 192, 193, 194, 195, 197, 198, 201, 204, 206, 207,\n",
      "       208, 209, 210, 212, 215, 216, 230, 236, 239, 248, 249, 250, 251,\n",
      "       253, 254, 255, 261, 268, 270, 273, 277, 279, 283, 284, 285, 287,\n",
      "       290, 311, 319, 320, 330, 334, 337, 338, 340, 357, 365, 367, 369,\n",
      "       370, 371, 380, 381, 395, 405, 407, 421, 422, 451, 462, 463, 464,\n",
      "       467, 473, 475, 491, 492, 504, 513, 514, 524, 526, 531, 533, 534,\n",
      "       539, 546]),)\n",
      "(array([ 12,  13,  16,  28,  29,  43,  45,  56,  59,  60,  62,  76,  77,\n",
      "        78,  80,  87,  91,  92, 100, 101, 103, 104, 105, 106, 108, 109,\n",
      "       111, 114, 119, 122, 126, 128, 131, 133, 134, 136, 145, 156, 159,\n",
      "       167, 176, 177, 178, 184, 185, 187, 190, 192, 198, 201, 202, 204,\n",
      "       205, 207, 208, 212, 213, 214, 215, 216, 217, 222, 230, 236, 239,\n",
      "       247, 249, 250, 251, 253, 255, 261, 268, 270, 280, 281, 282, 284,\n",
      "       285, 287, 290, 295, 296, 298, 300, 311, 330, 331, 332, 334, 335,\n",
      "       337, 338, 340, 347, 353, 358, 360, 365, 367, 369, 380, 382, 383,\n",
      "       395, 405, 422, 450, 451, 458, 459, 461, 466, 473, 491, 494, 504,\n",
      "       518, 525, 528, 534]),)\n"
     ]
    }
   ],
   "source": [
    "H = read_true_hap(gt_file, pos_file)\n",
    "print(np.nonzero(H[0]-H[1]))\n",
    "print(np.nonzero(H[1]-H[2]))\n",
    "print(np.nonzero(H[2]-H[0]))"
   ]
  },
  {
   "cell_type": "code",
   "execution_count": null,
   "metadata": {},
   "outputs": [],
   "source": []
  }
 ],
 "metadata": {
  "kernelspec": {
   "display_name": "Python 3",
   "language": "python",
   "name": "python3"
  },
  "language_info": {
   "codemirror_mode": {
    "name": "ipython",
    "version": 3
   },
   "file_extension": ".py",
   "mimetype": "text/x-python",
   "name": "python",
   "nbconvert_exporter": "python",
   "pygments_lexer": "ipython3",
   "version": "3.8.5"
  }
 },
 "nbformat": 4,
 "nbformat_minor": 4
}
