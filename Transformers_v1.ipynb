{
 "cells": [
  {
   "cell_type": "code",
   "execution_count": 1,
   "metadata": {},
   "outputs": [],
   "source": [
    "%load_ext autoreload\n",
    "%autoreload 2"
   ]
  },
  {
   "cell_type": "code",
   "execution_count": 2,
   "metadata": {},
   "outputs": [],
   "source": [
    "import numpy as np\n",
    "from scipy.spatial.distance import pdist, squareform\n",
    "from os import path\n",
    "from tqdm import tqdm\n",
    "\n",
    "import logging\n",
    "from typing import Any\n",
    "from nptyping import NDArray\n",
    "\n",
    "import torch\n",
    "from torch import nn\n",
    "from torch import optim\n",
    "from torch.utils.data import Dataset, DataLoader\n",
    "from torch.nn import functional as F\n",
    "\n",
    "import cvxpy as cp\n",
    "from matplotlib import pyplot as plt\n",
    "%matplotlib inline\n",
    "\n",
    "from read_embeddings import save_ckp, load_ckp, MyFilter, \\\n",
    "    ReadAE, SNVMatrixDataset, learn_embed\n",
    "from ScheduleOptim import ScheduledOptim\n",
    "from helper import read_true_hap, compute_cpr"
   ]
  },
  {
   "cell_type": "code",
   "execution_count": 3,
   "metadata": {},
   "outputs": [],
   "source": [
    "class CorrTransformer(nn.Module):\n",
    "    def __init__(self, d_model: int=512, d_qk: int=None):\n",
    "        super().__init__()\n",
    "        d_ff = 4*d_model  # Dimension of intermediate feedforward layer\n",
    "        n_head = 4  # Number of attention heads\n",
    "        if d_qk is None:\n",
    "            d_qk = int(d_model//n_head)  # Dim of query and key vectors in last attn layer\n",
    "\n",
    "        encoderLayer = nn.TransformerEncoderLayer(d_model, n_head, d_ff,\n",
    "                                                  batch_first=True)\n",
    "        self.encoder = nn.TransformerEncoder(encoderLayer, num_layers=2)\n",
    "        self.attn_last = nn.Linear(d_model, d_qk)\n",
    "\n",
    "    def forward(self, x):\n",
    "        return self.attn_last(self.encoder(x))"
   ]
  },
  {
   "cell_type": "code",
   "execution_count": 4,
   "metadata": {},
   "outputs": [],
   "source": [
    "def det_memhap(SNVdataset: SNVMatrixDataset,\n",
    "               ae: ReadAE, xformer: CorrTransformer\n",
    "               ):\n",
    "\n",
    "    m = len(SNVdataset)\n",
    "    dataloader_full = DataLoader(SNVdataset, batch_size=m,\n",
    "                                num_workers=0)\n",
    "    for i, (data, idx) in enumerate(dataloader_full):\n",
    "        SNV_onehot = data\n",
    "    embed, _ = ae(SNV_onehot)  # Read embeddings\n",
    "    Z_full = xformer(embed[None,:]).detach().numpy()  # Converting to numpy\n",
    "    Z_full = Z_full[0]  # Removing dummy dimension\n",
    "\n",
    "    # Goemans-Williamson algorithm\n",
    "    X = cp.Variable((m,m), symmetric=True)\n",
    "    constraints = [X >> 0]\n",
    "    constraints += [\n",
    "        X[i, i] == 1 for i in range(m)\n",
    "    ]\n",
    "    prob = cp.Problem(cp.Minimize(cp.trace(Z_full @ Z_full.T  @ X)),\n",
    "                  constraints)  # Solve SDP relaxation\n",
    "    prob.solve()\n",
    "    X_opt = X.value\n",
    "    \n",
    "    num_rounds = 10*int(np.ceil(np.log2(m)))  # number of rounds\n",
    "    round_x = np.zeros((m, num_rounds), dtype=np.float32)  # x for each round\n",
    "    round_obj = np.zeros(num_rounds)  # ojective for each round\n",
    "    for i in range(num_rounds):\n",
    "        unit_vec = np.random.randn(m)\n",
    "        unit_vec = unit_vec/np.linalg.norm(unit_vec)\n",
    "        x = -1*np.ones(m, dtype=np.float32)\n",
    "        eigval, eigvec = np.linalg.eigh(X_opt)\n",
    "        eigval[eigval<0] = 0  # Zeroing out negative eigenvalues\n",
    "        L = eigvec @ np.diag(np.sqrt(eigval))\n",
    "#         L = np.linalg.cholesky(X_opt+ 1e-4*np.eye(m))  # Tikhonov regularization\n",
    "        x[np.where(L.T @ unit_vec > 0)] = 1\n",
    "        \n",
    "        round_x[:, i] = x\n",
    "        round_obj[i] = np.sum((np.dot(Z_full.T, x))**2)\n",
    "    return round_x[:, np.argmin(round_obj)]\n",
    "    \n",
    "#     # Using nullspace properties to solve convex relaxation\n",
    "#     if Z_full.shape[0] > Z_full.shape[1]:  # Z.T is not full column rank\n",
    "#         U, S, Vh = np.linalg.svd(Z_full)\n",
    "#         U_null = U[:, len(S):]  # Basis vectors for null space\n",
    "#         U_round = np.where(np.abs(U_null+1) <= np.abs(U_null-1), -1, 1)\n",
    "#         U_round_err = np.linalg.norm(U_null - U_round, axis=0)  # Distance from [-1, +1] vector\n",
    "#         x = U_round[:, np.argmin(U_round_err)]\n",
    "#     else:  # Z.T is full_column rank\n",
    "#         U, S, Vh = np.linalg.svd(Z_full)\n",
    "#         u_min = U[:,-1]  # Vector corr to smalles singular value\n",
    "#         x = np.where(np.abs(u_min + 1) <= np.abs(u_min - 1), -1, 1)\n",
    "\n",
    "#     return x.astype(np.float32)\n",
    "\n",
    "#      # Solve convex problem to determine haplotype membership of each read\n",
    "#     x = cp.Variable(m - 1)\n",
    "#     Z_tilde = Z_full[1:].T\n",
    "#     b = Z_full[0]\n",
    "#     cost = cp.sum_squares(Z_tilde @ x + b)\n",
    "#     prob = cp.Problem(cp.Minimize(cost),\n",
    "#                      [x <= 1, x >= -1])\n",
    "#     prob.solve()\n",
    "\n",
    "#     x_round = np.append(np.array([1]),\n",
    "#                         np.sign(x.value))\n",
    "#     idx0 = np.where(x_round == 0)[0]\n",
    "#     x_round[idx0] = np.random.choice([-1, 1], len(idx0))\n",
    "\n",
    "#     return x_round.astype(np.float32)"
   ]
  },
  {
   "cell_type": "code",
   "execution_count": 5,
   "metadata": {},
   "outputs": [],
   "source": [
    "# get the ACGT statistics of a read matrix\n",
    "def ACGT_count(submatrix: NDArray[(Any, Any), int]):\n",
    "    out = np.zeros((submatrix.shape[1], 4))\n",
    "    for i in range(4):\n",
    "        out[:, i] = (submatrix == (i + 1)).sum(axis = 0)\n",
    "\n",
    "    return out "
   ]
  },
  {
   "cell_type": "code",
   "execution_count": 6,
   "metadata": {},
   "outputs": [],
   "source": [
    "def origin2hap(SNV_matrix: NDArray[(Any, Any), int], origin: NDArray[int],\n",
    "              num_hap: int=2) -> NDArray[(Any, Any), int]:    \n",
    "    \"\"\"\n",
    "    SNV_matrix:\n",
    "        Full read-SNV matrix\n",
    "    origin: \n",
    "        Specifies origin of each read by an int from (0, 1, ..., num_hap-1)\n",
    "        \n",
    "    Returns\n",
    "        matrix of haplotypes (haplotypes x SNPs)\n",
    "    \"\"\"\n",
    "    \n",
    "    origin_val = np.unique(origin)\n",
    "    accepted_val = np.arange(num_hap)\n",
    "    if np.any(np.intersect1d(origin_val, accepted_val) != origin_val):\n",
    "    \traise ValueError(\"Invalid origin values passed as argument.\")\n",
    "\n",
    "    hap_matrix = np.zeros((num_hap, SNV_matrix.shape[1]), dtype=int)\n",
    "    ACGTcount = ACGT_count(SNV_matrix)  # Stats of entire read matrix\n",
    "    for h in range(num_hap):\n",
    "        reads_h = SNV_matrix[origin == h]  # Reads attributed to haplotype i\n",
    "        h_stats = np.zeros((SNV_matrix.shape[1], 4))\n",
    "        \n",
    "        if len(reads_h) != 0:\n",
    "            h_stats = ACGT_count(reads_h) # ACGT statistics of a single nucleotide position\n",
    "        hap_matrix[h, :] = np.argmax(h_stats, axis = 1) + 1  # Most commonly occuring base at each pos  \n",
    "        \n",
    "        uncov_pos = np.where(np.sum(h_stats, axis = 1) == 0)[0]  # Positions uncovered by reads\n",
    "        for j in range(len(uncov_pos)):  # if not covered, select the most doninant one based on 'ACGTcount'  \n",
    "            base_max = np.flatnonzero(ACGTcount[uncov_pos[j], :] == np.amax(ACGTcount[uncov_pos[j], :])) + 1\n",
    "            if len(base_max) == 1:  # Single dominant base\n",
    "                hap_matrix[h, uncov_pos[j]] == base_max[0]\n",
    "            else:  # Choose one of the dominant bases at random\n",
    "                hap_matrix[h, uncov_pos[j]] = np.random.choice(base_max)\n",
    "\n",
    "    return hap_matrix"
   ]
  },
  {
   "cell_type": "code",
   "execution_count": 7,
   "metadata": {},
   "outputs": [],
   "source": [
    "def hamming_distance(read, haplo):\n",
    "    return sum((haplo - read)[read != 0] != 0)"
   ]
  },
  {
   "cell_type": "code",
   "execution_count": 8,
   "metadata": {},
   "outputs": [],
   "source": [
    "def MEC(SNV_matrix: NDArray[(Any, Any), int],\n",
    "        hap_matrix: NDArray[(Any, Any), int]) -> float:  # Compute MEC score\n",
    "    res = 0\n",
    "    \n",
    "    for SNV_read in SNV_matrix:\n",
    "        dis = [hamming_distance(SNV_read, hap) for j, hap in enumerate(hap_matrix)]\n",
    "        res = res + min(dis)\n",
    "        \n",
    "    return res"
   ]
  },
  {
   "cell_type": "markdown",
   "metadata": {},
   "source": [
    "Set up dataloader and hyperparameters."
   ]
  },
  {
   "cell_type": "code",
   "execution_count": 9,
   "metadata": {},
   "outputs": [],
   "source": [
    "datapath = 'Simulated_data/diploid/cov15/sample1/simu_erro1_K2_cov5'\\\n",
    "            '_l5000_iter_1_SNV_matrix.txt'\n",
    "SNVdata = SNVMatrixDataset(datapath)\n",
    "SNV_matrix = np.loadtxt(datapath, dtype=int)\n",
    "nSNP = SNV_matrix.shape[1] # Number of SNVs\n",
    "num_read = len(SNVdata)  # Number of reads\n",
    "batch_size = int(np.ceil(num_read/20))\n",
    "d_model = 128  # Size of embeddings\n",
    "\n",
    "dataloader = DataLoader(SNVdata, batch_size=batch_size,\n",
    "                        shuffle=True, num_workers=0)\n"
   ]
  },
  {
   "cell_type": "markdown",
   "metadata": {},
   "source": [
    "Read in ground truth."
   ]
  },
  {
   "cell_type": "code",
   "execution_count": 10,
   "metadata": {},
   "outputs": [],
   "source": [
    "gt_file = \"Simulated_data/diploid/cov15/sample1/combined.fa\"\n",
    "pos_file = \"Simulated_data/diploid/cov15/sample1/\"\\\n",
    "            \"simu_erro1_K2_cov5_l5000_iter_1_SNV_pos.txt\"\n",
    "true_haplo = read_true_hap(gt_file, pos_file)"
   ]
  },
  {
   "cell_type": "markdown",
   "metadata": {},
   "source": [
    "Load autoencoder for read embeddings. If the weights aren't stored in savefile, train autoencoder for said embeddings."
   ]
  },
  {
   "cell_type": "code",
   "execution_count": 11,
   "metadata": {},
   "outputs": [],
   "source": [
    "savefile=\"read_AE\"\n",
    "\n",
    "if path.isfile(savefile):\n",
    "    embedAE = ReadAE(nSNP, latent_dim=d_model)\n",
    "    embed_optimizer = optim.Adam(embedAE.parameters(), lr=1e-2)\n",
    "    embedAE, embed_optimizer, _ = load_ckp(savefile, embedAE, embed_optimizer)\n",
    "else:\n",
    "    embedAE = learn_embed(SNVdata, num_epoch=100, embed_dim=d_model, savefile=savefile)\n"
   ]
  },
  {
   "cell_type": "markdown",
   "metadata": {},
   "source": [
    "Setting up transformer with hyperparameters and training it."
   ]
  },
  {
   "cell_type": "code",
   "execution_count": 12,
   "metadata": {},
   "outputs": [],
   "source": [
    "corr_xformer = CorrTransformer(d_model, d_model//2)  # Transformer\n",
    "num_epoch = 150\n",
    "warmup_steps = 10  # Number of steps to linear increase learning rate\n",
    "\n",
    "xform_optimizer = ScheduledOptim(\n",
    "    optim.Adam(corr_xformer.parameters(), betas=(0.9, 0.98), eps=1e-09),\n",
    "        lr_mul=1., d_model=d_model, n_warmup_steps=warmup_steps) # Optimizer with customized schedule"
   ]
  },
  {
   "cell_type": "code",
   "execution_count": 13,
   "metadata": {},
   "outputs": [],
   "source": [
    "def xformer_loss(xformer_output: torch.Tensor,\n",
    "                 origin: torch.Tensor) -> float:\n",
    "    res = torch.sum(torch.matmul(torch.t(xformer_output), origin)**2)\n",
    "    return res"
   ]
  },
  {
   "cell_type": "code",
   "execution_count": 14,
   "metadata": {},
   "outputs": [],
   "source": [
    "logger = logging.getLogger(__name__)\n",
    "logger.setLevel(logging.INFO)\n",
    "\n",
    "# Create handlers\n",
    "c_handler = logging.StreamHandler()\n",
    "f_handler = logging.FileHandler('xformer_train.log')\n",
    "c_handler.setLevel(logging.WARNING)\n",
    "f_handler.setLevel(logging.INFO)\n",
    "f_handler.addFilter(MyFilter(logging.INFO))\n",
    "\n",
    "# Create formatters and add it to handlers\n",
    "c_format = logging.Formatter('%(name)s - %(levelname)s - %(message)s')\n",
    "f_format = logging.Formatter('%(message)s')\n",
    "c_handler.setFormatter(c_format)\n",
    "f_handler.setFormatter(f_format)\n",
    "\n",
    "# Add handlers to the logger\n",
    "logger.addHandler(c_handler)\n",
    "logger.addHandler(f_handler)"
   ]
  },
  {
   "cell_type": "code",
   "execution_count": 15,
   "metadata": {},
   "outputs": [
    {
     "name": "stdout",
     "output_type": "stream",
     "text": [
      "epoch : 1/150, loss = 276.47\n",
      "epoch : 2/150, loss = 613.43\n",
      "epoch : 3/150, loss = 43.39\n",
      "epoch : 4/150, loss = 16.78\n",
      "epoch : 5/150, loss = 9.19\n",
      "epoch : 6/150, loss = 14.10\n",
      "epoch : 7/150, loss = 9.50\n",
      "epoch : 8/150, loss = 6.15\n",
      "epoch : 9/150, loss = 7.37\n",
      "epoch : 10/150, loss = 10.54\n",
      "epoch : 11/150, loss = 16.08\n",
      "epoch : 12/150, loss = 6.28\n",
      "epoch : 13/150, loss = 4.76\n",
      "epoch : 14/150, loss = 4.15\n",
      "epoch : 15/150, loss = 4.13\n",
      "epoch : 16/150, loss = 3.61\n",
      "epoch : 17/150, loss = 4.28\n",
      "epoch : 18/150, loss = 5.17\n",
      "epoch : 19/150, loss = 3.34\n",
      "epoch : 20/150, loss = 2.34\n",
      "epoch : 21/150, loss = 1.60\n",
      "epoch : 22/150, loss = 1.56\n",
      "epoch : 23/150, loss = 7.06\n",
      "epoch : 24/150, loss = 2.89\n",
      "epoch : 25/150, loss = 0.76\n",
      "epoch : 26/150, loss = 0.40\n",
      "epoch : 27/150, loss = 0.58\n",
      "epoch : 28/150, loss = 0.60\n",
      "epoch : 29/150, loss = 0.36\n",
      "epoch : 30/150, loss = 0.46\n",
      "epoch : 31/150, loss = 0.22\n",
      "epoch : 32/150, loss = 0.17\n",
      "epoch : 33/150, loss = 0.25\n",
      "epoch : 34/150, loss = 0.25\n",
      "epoch : 35/150, loss = 0.12\n",
      "epoch : 36/150, loss = 0.12\n",
      "epoch : 37/150, loss = 0.12\n",
      "epoch : 38/150, loss = 0.08\n",
      "epoch : 39/150, loss = 0.09\n",
      "epoch : 40/150, loss = 0.08\n",
      "epoch : 41/150, loss = 0.14\n",
      "epoch : 42/150, loss = 0.10\n",
      "epoch : 43/150, loss = 0.09\n",
      "epoch : 44/150, loss = 0.07\n",
      "epoch : 45/150, loss = 0.07\n",
      "epoch : 46/150, loss = 0.11\n",
      "epoch : 47/150, loss = 0.09\n",
      "epoch : 48/150, loss = 0.07\n",
      "epoch : 49/150, loss = 0.07\n",
      "epoch : 50/150, loss = 0.07\n",
      "epoch : 51/150, loss = 0.07\n",
      "epoch : 52/150, loss = 0.07\n",
      "epoch : 53/150, loss = 0.08\n",
      "epoch : 54/150, loss = 0.05\n",
      "epoch : 55/150, loss = 0.03\n",
      "epoch : 56/150, loss = 0.07\n",
      "epoch : 57/150, loss = 0.04\n",
      "epoch : 58/150, loss = 0.02\n",
      "epoch : 59/150, loss = 0.05\n",
      "epoch : 60/150, loss = 0.05\n",
      "epoch : 61/150, loss = 0.05\n",
      "epoch : 62/150, loss = 0.02\n",
      "epoch : 63/150, loss = 0.02\n",
      "epoch : 64/150, loss = 0.02\n",
      "epoch : 65/150, loss = 0.02\n",
      "epoch : 66/150, loss = 0.02\n",
      "epoch : 67/150, loss = 0.02\n",
      "epoch : 68/150, loss = 0.05\n",
      "epoch : 69/150, loss = 0.02\n",
      "epoch : 70/150, loss = 0.03\n",
      "epoch : 71/150, loss = 0.02\n",
      "epoch : 72/150, loss = 0.02\n",
      "epoch : 73/150, loss = 0.02\n",
      "epoch : 74/150, loss = 0.02\n",
      "epoch : 75/150, loss = 0.01\n",
      "epoch : 76/150, loss = 0.02\n",
      "epoch : 77/150, loss = 0.01\n",
      "epoch : 78/150, loss = 0.01\n",
      "epoch : 79/150, loss = 0.01\n",
      "epoch : 80/150, loss = 0.01\n",
      "epoch : 81/150, loss = 0.01\n",
      "epoch : 82/150, loss = 0.01\n",
      "epoch : 83/150, loss = 0.01\n",
      "epoch : 84/150, loss = 0.02\n",
      "epoch : 85/150, loss = 0.03\n",
      "epoch : 86/150, loss = 0.01\n",
      "epoch : 87/150, loss = 0.01\n",
      "epoch : 88/150, loss = 0.01\n",
      "epoch : 89/150, loss = 0.01\n",
      "epoch : 90/150, loss = 0.01\n",
      "epoch : 91/150, loss = 0.01\n",
      "epoch : 92/150, loss = 0.01\n",
      "epoch : 93/150, loss = 0.01\n",
      "epoch : 94/150, loss = 0.01\n",
      "epoch : 95/150, loss = 0.00\n",
      "epoch : 96/150, loss = 0.00\n",
      "epoch : 97/150, loss = 0.01\n",
      "epoch : 98/150, loss = 0.00\n",
      "epoch : 99/150, loss = 0.01\n",
      "epoch : 100/150, loss = 0.01\n",
      "epoch : 101/150, loss = 0.01\n",
      "epoch : 102/150, loss = 0.01\n",
      "epoch : 103/150, loss = 0.01\n",
      "epoch : 104/150, loss = 0.01\n",
      "epoch : 105/150, loss = 0.01\n",
      "epoch : 106/150, loss = 0.01\n",
      "epoch : 107/150, loss = 0.00\n",
      "epoch : 108/150, loss = 0.01\n",
      "epoch : 109/150, loss = 0.00\n",
      "epoch : 110/150, loss = 0.00\n",
      "epoch : 111/150, loss = 0.00\n",
      "epoch : 112/150, loss = 0.00\n",
      "epoch : 113/150, loss = 0.00\n",
      "epoch : 114/150, loss = 0.00\n",
      "epoch : 115/150, loss = 0.01\n",
      "epoch : 116/150, loss = 0.01\n",
      "epoch : 117/150, loss = 0.01\n",
      "epoch : 118/150, loss = 0.00\n",
      "epoch : 119/150, loss = 0.00\n",
      "epoch : 120/150, loss = 0.00\n",
      "epoch : 121/150, loss = 0.00\n",
      "epoch : 122/150, loss = 0.00\n",
      "epoch : 123/150, loss = 0.00\n",
      "epoch : 124/150, loss = 0.01\n",
      "epoch : 125/150, loss = 0.01\n",
      "epoch : 126/150, loss = 0.01\n",
      "epoch : 127/150, loss = 0.01\n",
      "epoch : 128/150, loss = 0.00\n",
      "epoch : 129/150, loss = 0.00\n",
      "epoch : 130/150, loss = 0.00\n",
      "epoch : 131/150, loss = 0.00\n",
      "epoch : 132/150, loss = 0.00\n",
      "epoch : 133/150, loss = 0.00\n",
      "epoch : 134/150, loss = 0.00\n",
      "epoch : 135/150, loss = 0.00\n",
      "epoch : 136/150, loss = 0.00\n",
      "epoch : 137/150, loss = 0.00\n",
      "epoch : 138/150, loss = 0.00\n",
      "epoch : 139/150, loss = 0.00\n",
      "epoch : 140/150, loss = 0.00\n",
      "epoch : 141/150, loss = 0.00\n",
      "epoch : 142/150, loss = 0.00\n",
      "epoch : 143/150, loss = 0.00\n",
      "epoch : 144/150, loss = 0.00\n",
      "epoch : 145/150, loss = 0.00\n",
      "epoch : 146/150, loss = 0.00\n",
      "epoch : 147/150, loss = 0.00\n",
      "epoch : 148/150, loss = 0.00\n",
      "epoch : 149/150, loss = 0.00\n",
      "epoch : 150/150, loss = 0.00\n"
     ]
    }
   ],
   "source": [
    "xform_train_loss_arr = []\n",
    "mec = []\n",
    "cpr = []\n",
    "xformer_savefile = \"corr_xformer\"\n",
    "\n",
    "hap_origin = det_memhap(SNVdata, embedAE, corr_xformer)  # Initial haplotype memberships\n",
    "hap_matrix = origin2hap(SNV_matrix, (hap_origin.astype(int) + 1)/2) \n",
    "mec.append(MEC(SNV_matrix, hap_matrix))\n",
    "cpr.append(compute_cpr(hap_matrix, true_haplo))\n",
    "\n",
    "for epoch in range(num_epoch):\n",
    "    xform_train_loss = 0\n",
    "    for batch_data, batch_idx in dataloader:\n",
    "        xform_optimizer.zero_grad()\n",
    "        embed, recon = embedAE(batch_data)\n",
    "        Z_batch = corr_xformer(embed[None,:])\n",
    "        xform_loss = xformer_loss(Z_batch[0],\n",
    "                                  torch.from_numpy(hap_origin[batch_idx]))\n",
    "        xform_loss.backward()\n",
    "        xform_optimizer.step_and_update_lr()\n",
    "        xform_train_loss += xform_loss.item()\n",
    "    \n",
    "    xform_train_loss = xform_train_loss / len(dataloader)\n",
    "    xform_train_loss_arr.append(xform_train_loss)\n",
    "    \n",
    "    hap_origin = det_memhap(SNVdata, embedAE, corr_xformer)  # Initial haplotype memberships\n",
    "    hap_matrix = origin2hap(SNV_matrix, (hap_origin.astype(int) + 1)/2) \n",
    "    mec.append(MEC(SNV_matrix, hap_matrix))\n",
    "    cpr.append(compute_cpr(hap_matrix, true_haplo))\n",
    "\n",
    "    # Display epoch training loss\n",
    "    logger.info(\"epoch : {}/{}, loss = {:.2f}\".format(epoch + 1, num_epoch, xform_train_loss))\n",
    "    print(\"epoch : {}/{}, loss = {:.2f}\".format(epoch + 1, num_epoch, xform_train_loss))\n",
    "    if xformer_savefile and (epoch % 10 == 0):\n",
    "        checkpoint = {\n",
    "        'epoch': epoch + 1,\n",
    "        'state_dict': embedAE.state_dict(),\n",
    "#         'optimizer': xform_optimizer.state_dict(),\n",
    "        }\n",
    "        save_ckp(checkpoint, xformer_savefile)\n"
   ]
  },
  {
   "cell_type": "code",
   "execution_count": 16,
   "metadata": {},
   "outputs": [
    {
     "data": {
      "text/plain": [
       "[<matplotlib.lines.Line2D at 0x7f90d7b621f0>]"
      ]
     },
     "execution_count": 16,
     "metadata": {},
     "output_type": "execute_result"
    },
    {
     "data": {
      "image/png": "[encoded data removed]",
      "text/plain": [
       "<Figure size 432x288 with 1 Axes>"
      ]
     },
     "metadata": {
      "needs_background": "light"
     },
     "output_type": "display_data"
    }
   ],
   "source": [
    "plt.plot(mec)"
   ]
  },
  {
   "cell_type": "code",
   "execution_count": 17,
   "metadata": {},
   "outputs": [
    {
     "data": {
      "text/plain": [
       "[<matplotlib.lines.Line2D at 0x7f90d7bc6be0>]"
      ]
     },
     "execution_count": 17,
     "metadata": {},
     "output_type": "execute_result"
    },
    {
     "data": {
      "image/png": "[encoded data removed]",
      "text/plain": [
       "<Figure size 432x288 with 1 Axes>"
      ]
     },
     "metadata": {
      "needs_background": "light"
     },
     "output_type": "display_data"
    }
   ],
   "source": [
    "plt.plot(cpr)"
   ]
  },
  {
   "cell_type": "code",
   "execution_count": 33,
   "metadata": {},
   "outputs": [
    {
     "name": "stdout",
     "output_type": "stream",
     "text": [
      "[[ 1.         -0.93066946]\n",
      " [-0.93066946  1.        ]]\n"
     ]
    },
    {
     "data": {
      "image/png": "[encoded data removed]",
      "text/plain": [
       "<Figure size 432x288 with 1 Axes>"
      ]
     },
     "metadata": {
      "needs_background": "light"
     },
     "output_type": "display_data"
    }
   ],
   "source": [
    "plt.scatter(mec, cpr)\n",
    "plt.xlabel('MEC score')\n",
    "plt.ylabel('CPR')\n",
    "\n",
    "idx_best = np.argsort(mec)[:10]\n",
    "plt.scatter(np.array(mec)[idx_best], np.array(cpr)[idx_best], color='red')\n",
    "\n",
    "print(np.corrcoef(mec, cpr))"
   ]
  },
  {
   "cell_type": "markdown",
   "metadata": {},
   "source": [
    "### SDHap"
   ]
  },
  {
   "cell_type": "code",
   "execution_count": 18,
   "metadata": {},
   "outputs": [],
   "source": [
    "W = squareform(pdist(SNV_matrix, hamming_distance))\n",
    "m = np.shape(W)[0]"
   ]
  },
  {
   "cell_type": "code",
   "execution_count": 19,
   "metadata": {},
   "outputs": [
    {
     "name": "stdout",
     "output_type": "stream",
     "text": [
      "0.8758029978586723\n",
      "[12918. 16570. 20858. 56854. 45834. 38302. 32686. 65382. 28142. 51154.\n",
      " 38990. 23038. 33978. 51574. 72742. 49578. 66062. 63506. 34022. 15054.\n",
      " 36618. 52010. 96050. 27338. 43242. 33206. 17702. 50514. 40022. 73046.\n",
      " 24050. 43806. 52726. 14830. 55586. 23478. 65278. 57558. 16422. 73894.\n",
      "  2030. 32170. 33742. 66094.  7174. 57070. 81802. 44482. 71978. 20954.\n",
      " 29878. 31246. 17094. 35986. 78582. 39622. 78942. 72882.   858. 17942.\n",
      " 28694. 49238. 32710. 65318. 22874.  1178. 58382. 31838. 27810. 91378.]\n"
     ]
    }
   ],
   "source": [
    "# Goemans-Williamson algorithm\n",
    "X = cp.Variable((m,m), symmetric=True)\n",
    "constraints = [X >> 0]\n",
    "constraints += [\n",
    "    X[i, i] == 1 for i in range(m)\n",
    "]\n",
    "prob = cp.Problem(cp.Minimize(cp.trace(W  @ X)),\n",
    "              constraints)  # Solve SDP relaxation\n",
    "prob.solve()\n",
    "X_opt = X.value\n",
    "\n",
    "num_rounds = 10*int(np.ceil(np.log2(m)))  # number of rounds\n",
    "round_x = np.zeros((m, num_rounds), dtype=np.float32)  # x for each round\n",
    "round_obj = np.zeros(num_rounds)  # ojective for each round\n",
    "for i in range(num_rounds):\n",
    "    unit_vec = np.random.randn(m)\n",
    "    unit_vec = unit_vec/np.linalg.norm(unit_vec)\n",
    "    x = -1*np.ones(m, dtype=np.float32)\n",
    "    eigval, eigvec = np.linalg.eigh(X_opt)\n",
    "    eigval[eigval<0] = 0  # Zeroing out negative eigenvalues\n",
    "    L = eigvec @ np.diag(np.sqrt(eigval))\n",
    "#         L = np.linalg.cholesky(X_opt+ 1e-4*np.eye(m))  # Tikhonov regularization\n",
    "    x[np.where(L.T @ unit_vec > 0)] = 1\n",
    "\n",
    "    round_x[:, i] = x\n",
    "    round_obj[i] = np.dot(x, W @ x)\n",
    "\n",
    "hap_origin = round_x[:, np.argmin(round_obj)]\n",
    "hap_matrix = origin2hap(SNV_matrix, (hap_origin.astype(int) + 1)/2) \n",
    "cpr_sdhap = compute_cpr(hap_matrix, true_haplo)\n",
    "print(cpr_sdhap)\n",
    "print(round_obj)"
   ]
  },
  {
   "cell_type": "markdown",
   "metadata": {},
   "source": [
    "### Testing out helper functions"
   ]
  },
  {
   "cell_type": "code",
   "execution_count": 37,
   "metadata": {},
   "outputs": [
    {
     "data": {
      "text/plain": [
       "array([-1., -1.,  1., -1., -1., -1., -1.,  1., -1., -1.,  1., -1., -1.,\n",
       "        1., -1.,  1., -1., -1.,  1.,  1.,  1., -1., -1., -1.,  1.,  1.,\n",
       "       -1., -1., -1.,  1.,  1.,  1.,  1., -1., -1.,  1., -1.,  1.,  1.,\n",
       "       -1.,  1.,  1., -1., -1., -1.,  1., -1., -1.,  1., -1., -1.,  1.,\n",
       "        1., -1., -1.,  1.,  1., -1., -1., -1.,  1., -1., -1.,  1.,  1.,\n",
       "       -1., -1., -1., -1., -1., -1.,  1.,  1., -1., -1., -1., -1.,  1.,\n",
       "        1., -1.,  1., -1., -1., -1.,  1.,  1., -1., -1.,  1.,  1., -1.,\n",
       "       -1.,  1., -1., -1., -1., -1.,  1.,  1.])"
      ]
     },
     "execution_count": 37,
     "metadata": {},
     "output_type": "execute_result"
    }
   ],
   "source": [
    "det_memhap(SNVdata, embedAE, corrTransform)"
   ]
  },
  {
   "cell_type": "code",
   "execution_count": 38,
   "metadata": {},
   "outputs": [],
   "source": [
    "hap_matrix = origin2hap(SNVdata, np.concatenate((np.ones(50), -1*np.ones(50))))"
   ]
  },
  {
   "cell_type": "code",
   "execution_count": 44,
   "metadata": {},
   "outputs": [
    {
     "data": {
      "text/plain": [
       "3428"
      ]
     },
     "execution_count": 44,
     "metadata": {},
     "output_type": "execute_result"
    }
   ],
   "source": [
    "MEC(SNV_matrix, hap_matrix)"
   ]
  },
  {
   "cell_type": "markdown",
   "metadata": {},
   "source": [
    "#### Code snippet to recover full SNV matrix from "
   ]
  },
  {
   "cell_type": "code",
   "execution_count": null,
   "metadata": {},
   "outputs": [],
   "source": [
    "dataloader_full = DataLoader(SNVdataset,\n",
    "                             batch_size=len(SNVdataset),\n",
    "                             num_workers=0)\n",
    "for i, data in enumerate(dataloader_full):\n",
    "    SNV_tensor = np.squeeze(data.detach().numpy())\n",
    "\n",
    "SNV_matrix = np.zeros((SNV_tensor.shape[0], SNV_tensor.shape[2]))\n",
    "SNV_cov = np.nonzero(np.sum(SNV_tensor, axis=1))\n",
    "SNV_matrix[SNV_cov] = np.argmax(SNV_tensor, axis=1)[SNV_cov] + 1"
   ]
  },
  {
   "cell_type": "markdown",
   "metadata": {},
   "source": [
    "### Testing out transformer"
   ]
  },
  {
   "cell_type": "code",
   "execution_count": 36,
   "metadata": {},
   "outputs": [
    {
     "data": {
      "text/plain": [
       "torch.Size([1000, 10, 128])"
      ]
     },
     "execution_count": 36,
     "metadata": {},
     "output_type": "execute_result"
    }
   ],
   "source": [
    "x = torch.randn((1000, 10, 512))\n",
    "CorrTransform = CorrTransformer(d_model=512)\n",
    "CorrTransform(x).shape"
   ]
  },
  {
   "cell_type": "code",
   "execution_count": 46,
   "metadata": {},
   "outputs": [
    {
     "data": {
      "text/plain": [
       "torch.Size([1000, 512])"
      ]
     },
     "execution_count": 46,
     "metadata": {},
     "output_type": "execute_result"
    }
   ],
   "source": [
    "smax = nn.Softmax(dim=1)\n",
    "smax(x).sum(axis=1).shape"
   ]
  },
  {
   "cell_type": "markdown",
   "metadata": {},
   "source": [
    "### Testing out SDP in CVXPY"
   ]
  },
  {
   "cell_type": "code",
   "execution_count": 17,
   "metadata": {},
   "outputs": [
    {
     "data": {
      "text/plain": [
       "(array([9.7795036e-17, 4.0000000e-01, 4.0000000e-01, 3.2000000e+00]),\n",
       " array([[-0.5       ,  0.09454082,  0.70075819, -0.5       ],\n",
       "        [ 0.5       , -0.70075819,  0.09454082, -0.5       ],\n",
       "        [ 0.5       ,  0.09454082,  0.70075819,  0.5       ],\n",
       "        [-0.5       , -0.70075819,  0.09454082,  0.5       ]]))"
      ]
     },
     "execution_count": 17,
     "metadata": {},
     "output_type": "execute_result"
    }
   ],
   "source": [
    "W = np.array([[1, 0.8, -0.6, -0.8],\n",
    "             [0.8, 1, -0.8, -0.6],\n",
    "             [-0.6, -0.8, 1, 0.8],\n",
    "             [-0.8, -0.6, 0.8, 1]])\n",
    "np.linalg.eigh(W)"
   ]
  },
  {
   "cell_type": "code",
   "execution_count": 19,
   "metadata": {},
   "outputs": [
    {
     "name": "stdout",
     "output_type": "stream",
     "text": [
      "The optimal value is 12.799999655715636\n",
      "A solution X is\n",
      "[[ 1.          0.99999997 -0.99999995 -0.99999997]\n",
      " [ 0.99999997  1.         -0.99999997 -0.99999995]\n",
      " [-0.99999995 -0.99999997  1.          0.99999997]\n",
      " [-0.99999997 -0.99999995  0.99999997  1.        ]]\n"
     ]
    },
    {
     "data": {
      "text/plain": [
       "array([3.99999988e+00, 1.80502659e-08, 5.11243066e-08, 5.11242865e-08])"
      ]
     },
     "execution_count": 19,
     "metadata": {},
     "output_type": "execute_result"
    }
   ],
   "source": [
    "n = np.shape(W)[0]\n",
    "X = cp.Variable((n,n), symmetric=True)\n",
    "constraints = [X >> 0]\n",
    "constraints += [\n",
    "    X[i, i] == 1 for i in range(n)\n",
    "]\n",
    "prob = cp.Problem(cp.Maximize(cp.trace(W @ X)),\n",
    "                  constraints)\n",
    "prob.solve()\n",
    "\n",
    "print(\"The optimal value is\", prob.value)\n",
    "print(\"A solution X is\")\n",
    "print(X.value)\n",
    "np.linalg.eig(X.value)[0]"
   ]
  },
  {
   "cell_type": "code",
   "execution_count": 35,
   "metadata": {},
   "outputs": [
    {
     "name": "stdout",
     "output_type": "stream",
     "text": [
      "[[-0.91814877 -0.39623583  0.          0.        ]\n",
      " [-0.28018104  0.64922922 -0.70710678  0.        ]\n",
      " [-0.28018104  0.64922922  0.70710678  0.        ]\n",
      " [ 0.          0.          0.          1.        ]] [3.43961508 0.4111546 ] [[-0.26693358 -0.96371493]\n",
      " [-0.96371493  0.26693358]]\n",
      "2\n",
      "[[0. 0.]\n",
      " [0. 0.]]\n",
      "[1.         3.31662479]\n",
      "[array([1, 3]), array([0, 1]), array([0, 1]), array([0, 0])]\n"
     ]
    }
   ],
   "source": [
    "A = np.array([[1,3], [0,1], [0,1], [0, 0]])\n",
    "U, S, Vh = np.linalg.svd(A)\n",
    "print(U, S, Vh)\n",
    "print(np.linalg.matrix_rank(A))\n",
    "print(A.T @ U[:, len(S):])\n",
    "print(np.linalg.norm(A, axis=0))\n",
    "print([h for j, h in enumerate(A)])"
   ]
  },
  {
   "cell_type": "code",
   "execution_count": 25,
   "metadata": {},
   "outputs": [
    {
     "name": "stdout",
     "output_type": "stream",
     "text": [
      "(2, 2, 3)\n",
      "[[1 0 3]\n",
      " [0 1 0]]\n"
     ]
    },
    {
     "data": {
      "text/plain": [
       "array([[1, 1, 5],\n",
       "       [2, 4, 4]])"
      ]
     },
     "execution_count": 25,
     "metadata": {},
     "output_type": "execute_result"
    }
   ],
   "source": [
    "B = np.array([[[1, 0, 3],\n",
    "               [0, 1, 2]],\n",
    "             [[0, 1, 0],\n",
    "              [2, 3, 4]]\n",
    "             ])\n",
    "print(B.shape)\n",
    "print(B[:, 0])\n",
    "B.sum(axis=1)"
   ]
  }
 ],
 "metadata": {
  "kernelspec": {
   "display_name": "Python 3 (ipykernel)",
   "language": "python",
   "name": "python3"
  },
  "language_info": {
   "codemirror_mode": {
    "name": "ipython",
    "version": 3
   },
   "file_extension": ".py",
   "mimetype": "text/x-python",
   "name": "python",
   "nbconvert_exporter": "python",
   "pygments_lexer": "ipython3",
   "version": "3.9.7"
  }
 },
 "nbformat": 4,
 "nbformat_minor": 4
}
